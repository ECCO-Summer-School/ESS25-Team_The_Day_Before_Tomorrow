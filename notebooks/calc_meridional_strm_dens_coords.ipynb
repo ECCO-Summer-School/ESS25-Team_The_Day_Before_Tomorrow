{
 "cells": [
  {
   "cell_type": "code",
   "execution_count": 4,
   "id": "670786e9-9eb2-41d8-9288-6c39299d5908",
   "metadata": {},
   "outputs": [],
   "source": [
    "# tell Python to use the ecco_v4_py in the 'ECCOv4-py' repository\n",
    "from os.path import join,expanduser\n",
    "import sys\n",
    "\n",
    "# identify user's home directory\n",
    "user_home_dir = expanduser('~')\n",
    "\n",
    "# import the ECCOv4 py library \n",
    "sys.path.insert(0,join(user_home_dir,'ECCOv4-py'))\n",
    "import ecco_v4_py as ecco\n",
    "from ecco_v4_py import vector_calc, scalar_calc\n",
    "\n",
    "import gsw\n",
    "import cmocean\n",
    "from collections import Counter\n",
    "from dask.distributed import Client\n",
    "import datetime\n",
    "import json\n",
    "import numpy as np\n",
    "from pathlib import Path\n",
    "from pprint import pprint\n",
    "import sys\n",
    "import time as time\n",
    "import xarray as xr\n",
    "import matplotlib.pyplot as plt\n",
    "import matplotlib.axes as ax"
   ]
  },
  {
   "cell_type": "markdown",
   "id": "e26d553e-152f-4786-b014-d53b8be63755",
   "metadata": {},
   "source": [
    "# Load Function"
   ]
  },
  {
   "cell_type": "code",
   "execution_count": 5,
   "id": "18dfb35c-e1be-4f10-b1ed-86ddb476564c",
   "metadata": {},
   "outputs": [],
   "source": [
    "def calc_meridional_stf_dens(ds, lat_vals, sig_levels,\n",
    "                             basin_name=None):\n",
    "    \"\"\"\n",
    "    Compute meridonal streamfunction at each density level defined in sig_levels\n",
    "    across latitude(s) defined in lat_vals\n",
    "\n",
    "    Parameters\n",
    "    ----------\n",
    "    ds : xarray DataSet\n",
    "        must contain vars UVELMASS,VVELMASS, UVELSTAR, VVELSTAR, SIG2, drF, dyG, dxG\n",
    "        and coords YC, (maskW, and maskS if basin_name not None)\n",
    "    lat_vals : float or list\n",
    "        latitude value(s) specifying where to compute the streamfunction\n",
    "    sig_levels : list of length 50\n",
    "        Target values of Sigma_2 specifying the density bands for the \n",
    "        computation of the streamfunction\n",
    "    basin_name : string, optional\n",
    "        denote ocean basin over which to compute streamfunction\n",
    "        If not specified, compute global quantity\n",
    "        see get_basin.get_available_basin_names for options\n",
    "\n",
    "    Returns\n",
    "    -------\n",
    "    xds : xarray Dataset\n",
    "        with the main variable\n",
    "            'psi'\n",
    "                meridional overturning streamfunction across the section in Sv\n",
    "                with dimensions 'time' (if in given dataset), 'lat', and 'SIGMA_levs'\n",
    "    \"\"\"\n",
    "    #Set up vars\n",
    "    #velocities\n",
    "    U = ds.UVELMASS\n",
    "    u = ds.UVELSTAR\n",
    "    V = ds.VVELMASS\n",
    "    v = ds.VVELSTAR\n",
    "    utot = U+u\n",
    "    vtot = V+v\n",
    "    #spacial\n",
    "    dx = ds.dxG\n",
    "    dy = ds.dyG\n",
    "    dz = ds.drF\n",
    "    sig2 = ds.SIG2\n",
    "    \n",
    "    #regrid\n",
    "    grid = ecco.get_llc_grid(ds)\n",
    "    \n",
    "    sig2W = grid.interp(sig2, axis='X')\n",
    "    sig2S = grid.interp(sig2, axis='Y')\n",
    "\n",
    "    #basin mask?\n",
    "    if basin_name is not None:\n",
    "        maskS = ds_geom.maskS.compute()\n",
    "        maskW = ds_geom.maskW.compute()\n",
    "        basin_maskW = ecco.get_basin_mask(basin_name= basin_name,mask=maskW.isel(k=0))\n",
    "        basin_maskS = ecco.get_basin_mask(basin_name= basin_name,mask=maskS.isel(k=0))\n",
    "        ubasin = utot*basin_maskW\n",
    "        vbasin = vtot*basin_maskS\n",
    "        sigWbasin = sig2W*basin_maskW\n",
    "        sigSbasin = sig2S*basin_maskS\n",
    "        u = ubasin\n",
    "        v = vbasin\n",
    "        sigW = sigWbasin\n",
    "        sigS = sigSbasin\n",
    "    else:\n",
    "        u = utot\n",
    "        v = vtot\n",
    "        sigW = sig2W\n",
    "        sigS = sig2S\n",
    "\n",
    "    #compute streamfunction everywhere, summing over all densities greater than target density\n",
    "    xvol = xr.zeros_like(u)\n",
    "    xvol = xvol.rename({'k':'sig2'})\n",
    "    yvol = xr.zeros_like(v)\n",
    "    yvol = yvol.rename({'k':'sig2'})\n",
    "    for ss in range(50):\n",
    "        sig = sig_levels[ss]\n",
    "        y = v*dz*dx*np.heaviside(sigS-sig,1)*-1\n",
    "        yy = y.sum(dim='k')\n",
    "        x = utot*dz*dy*np.heaviside(sigW-sig,1)*-1\n",
    "        xx = x.sum(dim='k')\n",
    "        if any(x in ['time','month','year'] for x in list(U.dims)):\n",
    "            yvol[:,ss,:] = yy\n",
    "            xvol[:,ss,:] = xx\n",
    "        else:\n",
    "            yvol[ss,:] = yy\n",
    "            xvol[ss,:] = xx\n",
    "        \n",
    "    #now compute meridional streamfunction\n",
    "    # Initialize empty DataArray with coordinates and dims\n",
    "    ones = xr.ones_like(ds.YC)\n",
    "    \n",
    "    lats_da = xr.DataArray(lat_vals,coords={'lat':lats},dims=('lat',))\n",
    "    \n",
    "    xda = xr.zeros_like(yvol['sig2']*lats_da)\n",
    "\n",
    "    if 'time' in list(U.dims):\n",
    "        xda = xda.broadcast_like(yvol['time']).copy()\n",
    "    elif 'month' in list(U.dims):\n",
    "        xda = xda.broadcast_like(yvol['month']).copy()\n",
    "    elif 'year' in list(U.dims):\n",
    "        xda = xda.broadcast_like(yvol['year']).copy()\n",
    "    \n",
    "    # Convert to dataset to add sigma2 coordinate\n",
    "    xds = xda.to_dataset(name='psi')\n",
    "    xds = xds.assign_coords({'SIGMA_levs':('sig2', sig_levels)})\n",
    "    \n",
    "    #cycle through all lats\n",
    "    for l in range(len(lat_vals)):\n",
    "        lat = lat_vals[l]\n",
    "        dome_maskC = ones.where(ds.YC>=lat,0).compute()\n",
    "        lat_maskW = grid.diff(dome_maskC,'X',boundary='fill') #multiply by x\n",
    "        lat_maskS = grid.diff(dome_maskC,'Y',boundary='fill') #multiply by y\n",
    "        ytrsp_lat = (yvol * lat_maskS).sum(dim=['i','j_g','tile'])\n",
    "        xtrsp_lat = (xvol * lat_maskW).sum(dim=['i_g','j','tile'])\n",
    "        xds['psi'].loc[{'lat':lat}] = ytrsp_lat+xtrsp_lat\n",
    "\n",
    "    return xds"
   ]
  },
  {
   "cell_type": "markdown",
   "id": "cbbf3089-9580-4a76-8d58-9dad01f4522a",
   "metadata": {},
   "source": [
    "## download data"
   ]
  },
  {
   "cell_type": "code",
   "execution_count": 6,
   "id": "f72007f6-a08a-4e7c-8032-280db9062717",
   "metadata": {},
   "outputs": [
    {
     "name": "stdout",
     "output_type": "stream",
     "text": [
      "selected  /efs_ecco/ECCO/V4/r5/netcdf/native/mon_mean/OCEAN_VOLUME_FLUX\n",
      "\n",
      "First 5 files\n",
      "['OCEAN_VOLUME_FLUX_mon_mean_1992-01_ECCO_V4r5_native_llc0090.nc',\n",
      " 'OCEAN_VOLUME_FLUX_mon_mean_1992-02_ECCO_V4r5_native_llc0090.nc',\n",
      " 'OCEAN_VOLUME_FLUX_mon_mean_1992-03_ECCO_V4r5_native_llc0090.nc',\n",
      " 'OCEAN_VOLUME_FLUX_mon_mean_1992-04_ECCO_V4r5_native_llc0090.nc',\n",
      " 'OCEAN_VOLUME_FLUX_mon_mean_1992-05_ECCO_V4r5_native_llc0090.nc']\n",
      "selected  /efs_ecco/ECCO/V4/r5/netcdf/native/mon_mean/OCEAN_BOLUS_VELOCITY\n",
      "\n",
      "First 5 files\n",
      "['OCEAN_BOLUS_VELOCITY_mon_mean_1992-01_ECCO_V4r5_native_llc0090.nc',\n",
      " 'OCEAN_BOLUS_VELOCITY_mon_mean_1992-02_ECCO_V4r5_native_llc0090.nc',\n",
      " 'OCEAN_BOLUS_VELOCITY_mon_mean_1992-03_ECCO_V4r5_native_llc0090.nc',\n",
      " 'OCEAN_BOLUS_VELOCITY_mon_mean_1992-04_ECCO_V4r5_native_llc0090.nc',\n",
      " 'OCEAN_BOLUS_VELOCITY_mon_mean_1992-05_ECCO_V4r5_native_llc0090.nc']\n"
     ]
    }
   ],
   "source": [
    "ecco_v4r5_mon_mean_native_dir = Path('/efs_ecco/ECCO/V4/r5/netcdf/native/mon_mean/')\n",
    "\n",
    "# list sub-directories (one per dataset)\n",
    "ecco_v4r5_mon_mean_native_dataset_paths = np.sort(list(ecco_v4r5_mon_mean_native_dir.glob('*')))\n",
    "\n",
    "# Select a dataset (the one containing temperature and salinity)\n",
    "dataset_num = 22\n",
    "\n",
    "print('selected ', ecco_v4r5_mon_mean_native_dataset_paths[dataset_num])\n",
    "Vel_dataset_dir = ecco_v4r5_mon_mean_native_dataset_paths[dataset_num]\n",
    "\n",
    "# make a list of all of the files in the directory\n",
    "Vel_dataset_files = np.sort(list(Vel_dataset_dir.glob('*nc')))\n",
    "\n",
    "# show first 5 files\n",
    "print('\\nFirst 5 files')\n",
    "pprint([x.name for x in Vel_dataset_files[:5]])\n",
    "\n",
    "# Select a dataset (the one containing temperature and salinity)\n",
    "dataset_num = 14\n",
    "\n",
    "print('selected ', ecco_v4r5_mon_mean_native_dataset_paths[dataset_num])\n",
    "dens_dataset_dir = ecco_v4r5_mon_mean_native_dataset_paths[dataset_num]\n",
    "\n",
    "# make a list of all of the files in the directory\n",
    "dens_dataset_files = np.sort(list(dens_dataset_dir.glob('*nc')))\n",
    "\n",
    "# show first 5 files\n",
    "print('\\nFirst 5 files')\n",
    "pprint([x.name for x in dens_dataset_files[:5]])"
   ]
  },
  {
   "cell_type": "code",
   "execution_count": 8,
   "id": "3c3b6ea3-a974-4db9-a8eb-1f0905639899",
   "metadata": {},
   "outputs": [],
   "source": [
    "from dask.distributed import Client\n",
    "\n",
    "#  connec to existing LocalCluster\n",
    "# the port number will be different!\n",
    "client = Client(\"tcp://127.0.0.1:39295\") #find within Scheduler Address with orange red squares)\n",
    "client.ncores\n",
    "client.restart()"
   ]
  },
  {
   "cell_type": "code",
   "execution_count": 9,
   "id": "746cdd96-6d0c-4545-8432-bb3b0bcc259c",
   "metadata": {},
   "outputs": [
    {
     "name": "stdout",
     "output_type": "stream",
     "text": [
      "lazy-loading 336 granules\n",
      "lazy-loading 336 granules\n"
     ]
    }
   ],
   "source": [
    "start_time = time.time();\n",
    "ds_bolus = None\n",
    "ds_vel = None\n",
    "\n",
    "files_to_load = Vel_dataset_files\n",
    "\n",
    "print(f'lazy-loading {len(files_to_load)} granules')\n",
    "# first lazy load\n",
    "ds_vel = xr.open_mfdataset(Vel_dataset_files, \n",
    "                          parallel=True, data_vars='minimal',\\\n",
    "                          coords='minimal',compat='override',\n",
    "                          combine='nested', concat_dim='time',\n",
    "                          chunks={'time':12, 'tile':13,' k':50,'j':90,'i':90})\n",
    "files_to_load = dens_dataset_files\n",
    "\n",
    "print(f'lazy-loading {len(files_to_load)} granules')\n",
    "# first lazy load\n",
    "ds_bolus = xr.open_mfdataset(dens_dataset_files, \n",
    "                          parallel=True, data_vars='minimal',\\\n",
    "                          coords='minimal',compat='override',\n",
    "                          combine='nested', concat_dim='time',\n",
    "                          chunks={'time':12, 'tile':13,' k':50,'j':90,'i':90})\n",
    "\n",
    "\n",
    "total_time = time.time() - start_time"
   ]
  },
  {
   "cell_type": "code",
   "execution_count": 10,
   "id": "53d5352b-7cf5-449c-a20c-fd6d9325fc3d",
   "metadata": {},
   "outputs": [],
   "source": [
    "geom_path = '/efs_ecco/ECCO/V4/r5/netcdf/native/geometry/GRID_GEOMETRY_ECCO_V4r5_native_llc0090.nc'\n",
    "ds_geom = xr.open_dataset(geom_path)"
   ]
  },
  {
   "cell_type": "code",
   "execution_count": 11,
   "id": "62b62280-34a7-4202-ae45-691a87930442",
   "metadata": {},
   "outputs": [],
   "source": [
    "sig_path = '/efs_ecco/czimmerm/Sigma_2_field.nc'\n",
    "ds_sig = xr.open_dataset(sig_path,\\\n",
    "                         chunks={'time':1, 'tile':13,' k':25,'j':90,'i':90})"
   ]
  },
  {
   "cell_type": "markdown",
   "id": "3e468fe1-7d1e-4d80-9f19-94bdc07d01a4",
   "metadata": {},
   "source": [
    "## Reformat"
   ]
  },
  {
   "cell_type": "code",
   "execution_count": 13,
   "id": "2e83e841-877e-42e9-8dda-2659edcb38c9",
   "metadata": {},
   "outputs": [],
   "source": [
    "ds = xr.merge((ds_geom , ds_bolus[['VVELSTAR','UVELSTAR']],ds_vel[['UVELMASS','VVELMASS']],ds_sig['SIG2']))\n",
    "#ds = ds.load()"
   ]
  },
  {
   "cell_type": "markdown",
   "id": "fdfa9f3b-99b7-401b-8f2f-d427d00186a4",
   "metadata": {},
   "source": [
    "## Customize the Streamfunction you want to calculate"
   ]
  },
  {
   "cell_type": "code",
   "execution_count": 15,
   "id": "ff1f8770-f3a4-4155-9ab0-edcd5960d77e",
   "metadata": {},
   "outputs": [],
   "source": [
    "#take climatology or time mean or select specific time window\n",
    "#clim\n",
    "ds_clim = ds.groupby('time.month').mean('time')\n",
    "#mean\n",
    "ds_mean = ds.mean('time')\n",
    "#annual mean\n",
    "ds_an_mean = ds.groupby('time.year').mean('time')\n",
    "#window\n",
    "ds_years = ds.isel(time = list(np.arange(192,228,1))) #this window is 01-2008 until 12-2010"
   ]
  },
  {
   "cell_type": "code",
   "execution_count": 18,
   "id": "5f7a6d2b-46c8-400e-bcc4-5aef2f79b4c8",
   "metadata": {},
   "outputs": [],
   "source": [
    "#pick latitudes\n",
    "#lats = np.arange(-80,80,1) #global\n",
    "lats = np.arange(-30,80,1) #atlantic or indo-pacific\n",
    "#pick basin -- default is None\n",
    "basin_name = 'atlExt' "
   ]
  },
  {
   "cell_type": "code",
   "execution_count": null,
   "id": "5df33d6b-894c-45fc-b4fd-29c73e1e338d",
   "metadata": {},
   "outputs": [],
   "source": [
    "#pick target sigma levels --> define new coordinates\n",
    "#first look at your real sig values\n",
    "sig = ds_sig.SIG2.mean('time')\n",
    "sig_section = []\n",
    "for k in range(50):\n",
    "    nlon_centers, nlat_centers, nlone, nlate, sig_reg = \\\n",
    "        ecco.resample_to_latlon(sig.XC, sig.YC, \n",
    "                                sig[k], -90, 90,\n",
    "                                0.2, -180, 180, 0.2, \n",
    "                                radius_of_influence=200000.0,\n",
    "                                mapping_method='nearest_neighbor')\n",
    "    sig_section.append(sig_reg)\n",
    "sig_section= np.array(sig_section)\n",
    "np.shape(sig_section)"
   ]
  },
  {
   "cell_type": "code",
   "execution_count": null,
   "id": "af0d1332-77ca-49f1-a1a4-fc87c2a54c5d",
   "metadata": {},
   "outputs": [],
   "source": [
    "#pick a lat to view\n",
    "j_SO = np.argmax(nlat_centers[:,0] >= -60) #Southern ocean\n",
    "print(nlat_centers[j_SO,0])\n",
    "#view\n",
    "plt.pcolor(nlon_centers[0,:], sig.Z, sig_section[:, j_SO,:])\n",
    "cb=plt.colorbar()"
   ]
  },
  {
   "cell_type": "code",
   "execution_count": null,
   "id": "cd99d0f9-ff6c-4e5a-b15f-e29a5ad634e2",
   "metadata": {},
   "outputs": [],
   "source": [
    "#pick a lon to view\n",
    "i_atl = np.argmax(nlon_centers[0,:] >= -30) #atlantic\n",
    "print(nlon_centers[0,i_atl])\n",
    "#view\n",
    "plt.pcolor(nlat_centers[:,0], sig.Z, sig_section[:, :,i_atl])\n",
    "cb=plt.colorbar()"
   ]
  },
  {
   "cell_type": "code",
   "execution_count": 17,
   "id": "8c5a9867-9459-42f4-a326-28061e1438ed",
   "metadata": {},
   "outputs": [
    {
     "data": {
      "text/plain": [
       "50"
      ]
     },
     "execution_count": 17,
     "metadata": {},
     "output_type": "execute_result"
    }
   ],
   "source": [
    "# now fill in appropriate target sigs based on location of interest -- MUST BE LENGTH 50\n",
    "target_sig_levels = [28.5200, 29.4855, 30.8803, 31.6772, 32.1183,32.8800, 33.2711,33.8000, 34.0234,34.2500, 34.5587,34.800,35.1000, 35.3480,35.4700,35.6100, 35.7690,35.8600,35.9700, 36.0550, 36.1500, 36.2469, 36.2900, 36.3810,36.4300,36.4512, 36.4893,36.5100, 36.5964,36.6500, 36.7148, 36.7700, 36.8421, 36.9200, 36.9887,37.0100,37.0323, 37.0598,37.1000, 37.1254, 37.1400,37.1612,37.1840,37.2024, 37.2346, 37.2780, 37.3160, 37.3498,37.3672, 37.3806];\n",
    "len(target_sig_levels) #must be 50"
   ]
  },
  {
   "cell_type": "markdown",
   "id": "788990bc-00aa-4a9d-901d-eb02749d8e35",
   "metadata": {},
   "source": [
    "## Run the function"
   ]
  },
  {
   "cell_type": "code",
   "execution_count": null,
   "id": "82a3f795-c52d-46b6-ab69-364c8201a54f",
   "metadata": {
    "scrolled": true
   },
   "outputs": [
    {
     "name": "stderr",
     "output_type": "stream",
     "text": [
      "/srv/conda/envs/notebook/lib/python3.12/site-packages/xgcm/grid_ufunc.py:832: FutureWarning: The return type of `Dataset.dims` will be changed to return a set of dimension names in future, in order to be more consistent with `DataArray.dims`. To access a mapping from dimension names to lengths, please use `Dataset.sizes`.\n",
      "  out_dim: grid._ds.dims[out_dim] for arg in out_core_dims for out_dim in arg\n",
      "/srv/conda/envs/notebook/lib/python3.12/site-packages/xgcm/grid_ufunc.py:832: FutureWarning: The return type of `Dataset.dims` will be changed to return a set of dimension names in future, in order to be more consistent with `DataArray.dims`. To access a mapping from dimension names to lengths, please use `Dataset.sizes`.\n",
      "  out_dim: grid._ds.dims[out_dim] for arg in out_core_dims for out_dim in arg\n"
     ]
    },
    {
     "name": "stdout",
     "output_type": "stream",
     "text": [
      "get_basin_name:  ['atl', 'mexico', 'hudson', 'med', 'north', 'baffin', 'gin'] /home/jovyan/ECCOv4-py/binary_data\n",
      "load_binary_array: loading file /home/jovyan/ECCOv4-py/binary_data/basins.data\n",
      "load_binary_array: data array shape  (1170, 90)\n",
      "load_binary_array: data array type  >f4\n",
      "llc_compact_to_faces: dims, llc  (1170, 90) 90\n",
      "llc_compact_to_faces: data_compact array type  >f4\n",
      "llc_faces_to_tiles: data_tiles shape  (13, 90, 90)\n",
      "llc_faces_to_tiles: data_tiles dtype  >f4\n",
      "shape after reading \n",
      "(13, 90, 90)\n",
      "get_basin_name:  ['atl', 'mexico', 'hudson', 'med', 'north', 'baffin', 'gin'] /home/jovyan/ECCOv4-py/binary_data\n",
      "load_binary_array: loading file /home/jovyan/ECCOv4-py/binary_data/basins.data\n",
      "load_binary_array: data array shape  (1170, 90)\n",
      "load_binary_array: data array type  >f4\n",
      "llc_compact_to_faces: dims, llc  (1170, 90) 90\n",
      "llc_compact_to_faces: data_compact array type  >f4\n",
      "llc_faces_to_tiles: data_tiles shape  (13, 90, 90)\n",
      "llc_faces_to_tiles: data_tiles dtype  >f4\n",
      "shape after reading \n",
      "(13, 90, 90)\n"
     ]
    }
   ],
   "source": [
    "#fill in whichever ds, lats, and sig levels you decide on\n",
    "strm = calc_meridional_stf_dens(ds_clim, lats, target_sig_levels, basin_name)# remove basin name if global"
   ]
  },
  {
   "cell_type": "markdown",
   "id": "c3633855-d364-4df9-82d7-2def1e753799",
   "metadata": {},
   "source": [
    "## Visualize output"
   ]
  },
  {
   "cell_type": "markdown",
   "id": "f129379b-053b-421c-afc7-cc460dbe3924",
   "metadata": {},
   "source": [
    "### timeseries"
   ]
  },
  {
   "cell_type": "code",
   "execution_count": null,
   "id": "ddced528-60c9-4f4b-9bb6-0dd000c9eaee",
   "metadata": {},
   "outputs": [],
   "source": [
    "#get max strmfxn at each latitude\n",
    "Psi_moc = strm['psi'].max(dim='sig2')\n",
    "#plot timeseries for some latitude\n",
    "lat_plot = 50 #N\n",
    "lat_indx = np.argmax(strm['lat'].values >= lat_plot)\n",
    "\n",
    "#if climatology\n",
    "plt.plot(strm['month'],Psi_moc[:,lat_indx]*10**-6)\n",
    "plt.title(f'Seasonal cycle of maximum [global/atlantic] Meridional Streamfunction at {lat_plot}N')\n",
    "plt.ylabel('Psi [SV]')\n",
    "plt.xlabel('Month of year') # 1 = January\n",
    "# #if annual mean\n",
    "# plt.plot(strm['year'],Psi_moc[:,lat_indx]*10**-6)\n",
    "# plt.title(f'Annual mean Maximum [global/atlantic] Meridional Streamfunction at {lat_plot}N')\n",
    "# plt.ylabel('Psi [SV]')\n",
    "# plt.xlabel('year') # \n",
    "# #if full or time window\n",
    "# plt.plot(strm['time'],Psi_moc[:,lat_indx]*10**-6)\n",
    "# plt.title(f'Monthly Maximum [global/atlantic] Meridional Streamfunction at {lat_plot}N')\n",
    "# plt.ylabel('Psi [SV]')\n",
    "# plt.xlabel('time') # "
   ]
  },
  {
   "cell_type": "markdown",
   "id": "52f96b0b-c61e-43e8-aa26-386ce3905796",
   "metadata": {},
   "source": [
    "### density space plots"
   ]
  },
  {
   "cell_type": "code",
   "execution_count": null,
   "id": "79ab0f06-f3a8-46fd-ad87-aa93428dd73b",
   "metadata": {},
   "outputs": [],
   "source": [
    "#take time mean if desired\n",
    "Psi_time_mean = strm['psi'].mean(dim='month') #or month, year ..."
   ]
  },
  {
   "cell_type": "code",
   "execution_count": null,
   "id": "d4d333f5-44fe-48d7-8fdf-1288f22439fa",
   "metadata": {},
   "outputs": [],
   "source": [
    "#plot latitude/density map\n",
    "#centeres colorbar at 0, remove if desired\n",
    "maxlev = 36\n",
    "deltlev = 3\n",
    "clevs = np.concatenate((np.arange(-1*maxlev,0,deltlev),np.arange(deltlev,maxlev+deltlev/2)))\n",
    "\n",
    "fig, ax = plt.subplots()\n",
    "#plot time mean\n",
    "plt.contourf(strm.lat,strm.SIGMA_levs,Psi_time_mean*10**-6,levels = clevs,cmap='PiYG')\n",
    "#plot specific time (first time selected here)\n",
    "#plt.contourf(strm.lat,strm.SIGMA_levs,strm.psi[0]*10**-6,levels = clevs,cmap='PiYG')\n",
    "\n",
    "cb=plt.colorbar()\n",
    "cb.set_label('Sv')\n",
    "plt.title('Time Mean Atlantic Meridional Streamfunction')\n",
    "plt.ylabel('density (sig_2)')\n",
    "plt.xlabel('lat')\n",
    "plt.gca().invert_yaxis() #have increasing density down the y-axis\n",
    "plt.show()"
   ]
  },
  {
   "cell_type": "code",
   "execution_count": null,
   "id": "95b64093-ab2a-434a-9c54-fbd32ee1a569",
   "metadata": {},
   "outputs": [],
   "source": [
    "#plot latitude/density map squishing the y axis\n",
    "\n",
    "fig, ax = plt.subplots()\n",
    "#plot time mean\n",
    "plt.contourf(strm.lat,np.arange(0,50),Psi_time_mean*10**-6)\n",
    "#plot specific time (first time selected here)\n",
    "#plt.contourf(strm.lat,strm.SIGMA_levs,strm.psi[0]*10**-6,levels = clevs,cmap='PiYG')\n",
    "\n",
    "cb=plt.colorbar()\n",
    "cb.set_label('Sv')\n",
    "plt.title('Time Mean [Global/ Atlantic] Meridional Streamfunction')\n",
    "plt.ylabel('density (sig_2)')\n",
    "plt.xlabel('lat')\n",
    "plt.gca().invert_yaxis() #have increasing density down the y-axis\n",
    "\n",
    "sig_4_plot = ds_strm.SIGMA_levs.values[np.arange(0,50,5)]\n",
    "sig_4_plot\n",
    "ax.yaxis.set_ticks(np.arange(0,50,5))\n",
    "ax.set_yticklabels(sig_4_plot)\n",
    "\n",
    "plt.show()"
   ]
  },
  {
   "cell_type": "code",
   "execution_count": null,
   "id": "915ded83-2728-4f10-a19f-e7d733abeb83",
   "metadata": {},
   "outputs": [],
   "source": [
    "#plot profile at a single latitude\n",
    "lat_plot = 50 #N\n",
    "lat_indx = np.argmax(strm['lat'].values >= lat_plot)\n",
    "\n",
    "plt.figure(figsize=(12,6))\n",
    "#plot time mean\n",
    "plt.plot(Psi_time_mean[:,lat_indx]*10**-6,strm['SIGMA_levs'],'r')\n",
    "#plot specific time\n",
    "#plt.plot(strm.psi[0,:,lat_indx]*10**-6,strm['SIGMA_levs'],'r')\n",
    "\n",
    "plt.grid()\n",
    "plt.title(f'Meridional Streamfunction at {lat_plot}N')\n",
    "plt.ylabel('sig')\n",
    "plt.xlabel('Sv')\n",
    "plt.ylim([strm['SIGMA_levs'][-1],strm['SIGMA_levs'][2]])#adjust axis to highlight denser density classes\n",
    "#plt.gca().invert_yaxis() #invert axis if not adjusting limits\n",
    "plt.show()"
   ]
  },
  {
   "cell_type": "code",
   "execution_count": null,
   "id": "254c12d7-5ac2-4a07-9ef4-fefcd5d199b7",
   "metadata": {},
   "outputs": [],
   "source": []
  }
 ],
 "metadata": {
  "kernelspec": {
   "display_name": "Python 3 (ipykernel)",
   "language": "python",
   "name": "python3"
  },
  "language_info": {
   "codemirror_mode": {
    "name": "ipython",
    "version": 3
   },
   "file_extension": ".py",
   "mimetype": "text/x-python",
   "name": "python",
   "nbconvert_exporter": "python",
   "pygments_lexer": "ipython3",
   "version": "3.12.8"
  }
 },
 "nbformat": 4,
 "nbformat_minor": 5
}
