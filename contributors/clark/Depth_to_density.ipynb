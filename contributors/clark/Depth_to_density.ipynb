{
 "cells": [
  {
   "cell_type": "code",
   "execution_count": 33,
   "id": "869798ff-4828-4d65-99f0-cd4d4e3747f5",
   "metadata": {},
   "outputs": [],
   "source": [
    "# tell Python to use the ecco_v4_py in the 'ECCOv4-py' repository\n",
    "from os.path import join,expanduser\n",
    "import sys\n",
    "\n",
    "# identify user's home directory\n",
    "user_home_dir = expanduser('~')\n",
    "\n",
    "# import the ECCOv4 py library \n",
    "sys.path.insert(0,join(user_home_dir,'ECCOv4-py'))\n",
    "import ecco_v4_py as ecco\n",
    "from ecco_v4_py import vector_calc, scalar_calc\n",
    "\n",
    "import gsw\n",
    "import botocore  \n",
    "import boto3\n",
    "from boto3.session import Session\n",
    "import cmocean\n",
    "from collections import Counter\n",
    "from dask.distributed import Client\n",
    "import datetime\n",
    "import fsspec\n",
    "from gc import get_referents\n",
    "import json\n",
    "import numpy as np\n",
    "from pathlib import Path\n",
    "from pprint import pprint\n",
    "import requests\n",
    "import s3fs\n",
    "import sys\n",
    "from sys import getsizeof\n",
    "import time as time\n",
    "from types import ModuleType, FunctionType\n",
    "import xarray as xr\n",
    "import matplotlib.pyplot as plt\n",
    "import zarr"
   ]
  },
  {
   "cell_type": "code",
   "execution_count": 34,
   "id": "c2884913-4efe-4d2e-a8c2-5c814340af01",
   "metadata": {},
   "outputs": [],
   "source": [
    "# Use this for the netcdf files stored on an s3 bucket\n",
    "def get_credentials(use_earthdata=False):\n",
    "    \"\"\"\n",
    "    This routine automatically pulls your EDL crediential from .netrc file and use it to obtain an AWS S3 credential \n",
    "    through a PO.DAAC service accessible at https://archive.podaac.earthdata.nasa.gov/s3credentials.\n",
    "    From the PO.DAAC Github (https://podaac.github.io/tutorials/external/July_2022_Earthdata_Webinar.html).\n",
    "    \n",
    "    Returns:\n",
    "    =======\n",
    "    \n",
    "    credentials: a dictionary with AWS secret_key, access_key, and token\n",
    "    \"\"\"\n",
    "    # NASA EarthData hosts ECCO V4r4 fileds\n",
    "    if use_earthdata == False:\n",
    "        session = boto3.Session()\n",
    "        credentials_b3 = session.get_credentials()\n",
    "        creds_b3 = credentials_b3.get_frozen_credentials()\n",
    "        \n",
    "        credentials = dict()\n",
    "        credentials['secretAccessKey'] = credentials_b3.secret_key\n",
    "        credentials['accessKeyId'] = credentials_b3.access_key\n",
    "        credentials['sessionToken'] = credentials_b3.token\n",
    "\n",
    "    # A 'public' AWS s3 bucket hosts V4r5 fields (they will eventually move to PO.DAAC)\n",
    "    else:\n",
    "        credentials = requests.get('https://archive.podaac.earthdata.nasa.gov/s3credentials').json()\n",
    "    \n",
    "    return credentials\n",
    "    "
   ]
  },
  {
   "cell_type": "code",
   "execution_count": 35,
   "id": "2a719b8d-78a6-4b0f-906e-e9bd32356ba4",
   "metadata": {},
   "outputs": [],
   "source": [
    "def init_S3FileSystem(use_earthdata=False, requester_pays=True):\n",
    "    \"\"\"\n",
    "    This routine automatically creates an 's3 file system' object and credentials dictionary.\n",
    "    The s3 file system needs to be initialized with the special aws credentials.\n",
    "    \n",
    "    Returns:\n",
    "    =======\n",
    "    \n",
    "    s3: an AWS S3 filesystem, \n",
    "    credentials: a dictionary with AWS secret_key, access_key, and token\n",
    "\n",
    "    \"\"\"\n",
    "    credentials = get_credentials(use_earthdata=use_earthdata)\n",
    "\n",
    "    if use_earthdata:\n",
    "        requester_pays = False\n",
    "        \n",
    "    s3 = s3fs.S3FileSystem(requester_pays=requester_pays,\n",
    "                           anon=False,\n",
    "                           key=credentials['accessKeyId'],\n",
    "                           secret=credentials['secretAccessKey'], \n",
    "                           token=credentials['sessionToken'])\n",
    "    \n",
    "    return s3, credentials"
   ]
  },
  {
   "cell_type": "code",
   "execution_count": 36,
   "id": "ba75a738-92d7-413d-999f-3e58fc861fe8",
   "metadata": {},
   "outputs": [],
   "source": [
    "# function for determining the memory footprint of an object\n",
    "\n",
    "# ... from https://stackoverflow.com/questions/449560/how-do-i-determine-the-size-of-an-object-in-python\n",
    "\n",
    "# Custom objects know their class.\n",
    "# Function objects seem to know way too much, including modules.\n",
    "# Exclude modules as well.\n",
    "BLACKLIST = type, ModuleType, FunctionType\n",
    "\n",
    "def getsize(obj):\n",
    "    \"\"\"\n",
    "    This routine returns the in-memory size of an python object\n",
    "    \n",
    "    Returns:\n",
    "    =======\n",
    "    \n",
    "    size: size of object & members.\n",
    "    \"\"\"\n",
    "    if isinstance(obj, BLACKLIST):\n",
    "        raise TypeError('getsize() does not take argument of type: '+ str(type(obj)))\n",
    "    seen_ids = set()\n",
    "    size = 0\n",
    "    objects = [obj]\n",
    "    while objects:\n",
    "        need_referents = []\n",
    "        for obj in objects:\n",
    "            if not isinstance(obj, BLACKLIST) and id(obj) not in seen_ids:\n",
    "                seen_ids.add(id(obj))\n",
    "                size += sys.getsizeof(obj)\n",
    "                need_referents.append(obj)\n",
    "        objects = get_referents(*need_referents)\n",
    "    return size"
   ]
  },
  {
   "cell_type": "code",
   "execution_count": 37,
   "id": "67f985b3-292c-4958-95c3-b94034d3a9d4",
   "metadata": {},
   "outputs": [
    {
     "name": "stdout",
     "output_type": "stream",
     "text": [
      "selected  /efs_ecco/ECCO/V4/r5/netcdf/native/mon_mean/OCEAN_VOLUME_FLUX\n",
      "\n",
      "First 5 files\n",
      "['OCEAN_VOLUME_FLUX_mon_mean_1992-01_ECCO_V4r5_native_llc0090.nc',\n",
      " 'OCEAN_VOLUME_FLUX_mon_mean_1992-02_ECCO_V4r5_native_llc0090.nc',\n",
      " 'OCEAN_VOLUME_FLUX_mon_mean_1992-03_ECCO_V4r5_native_llc0090.nc',\n",
      " 'OCEAN_VOLUME_FLUX_mon_mean_1992-04_ECCO_V4r5_native_llc0090.nc',\n",
      " 'OCEAN_VOLUME_FLUX_mon_mean_1992-05_ECCO_V4r5_native_llc0090.nc']\n",
      "selected  /efs_ecco/ECCO/V4/r5/netcdf/native/mon_mean/OCEAN_DENS_STRAT_PRESS\n",
      "\n",
      "First 5 files\n",
      "['OCEAN_DENS_STRAT_PRESS_mon_mean_1992-01_ECCO_V4r5_native_llc0090.nc',\n",
      " 'OCEAN_DENS_STRAT_PRESS_mon_mean_1992-02_ECCO_V4r5_native_llc0090.nc',\n",
      " 'OCEAN_DENS_STRAT_PRESS_mon_mean_1992-03_ECCO_V4r5_native_llc0090.nc',\n",
      " 'OCEAN_DENS_STRAT_PRESS_mon_mean_1992-04_ECCO_V4r5_native_llc0090.nc',\n",
      " 'OCEAN_DENS_STRAT_PRESS_mon_mean_1992-05_ECCO_V4r5_native_llc0090.nc']\n"
     ]
    }
   ],
   "source": [
    "ecco_v4r5_mon_mean_native_dir = Path('/efs_ecco/ECCO/V4/r5/netcdf/native/mon_mean/')\n",
    "\n",
    "# list sub-directories (one per dataset)\n",
    "ecco_v4r5_mon_mean_native_dataset_paths = np.sort(list(ecco_v4r5_mon_mean_native_dir.glob('*')))\n",
    "\n",
    "# Select a dataset (the one containing temperature and salinity)\n",
    "dataset_num = 22\n",
    "\n",
    "print('selected ', ecco_v4r5_mon_mean_native_dataset_paths[dataset_num])\n",
    "Vel_dataset_dir = ecco_v4r5_mon_mean_native_dataset_paths[dataset_num]\n",
    "\n",
    "# make a list of all of the files in the directory\n",
    "Vel_dataset_files = np.sort(list(Vel_dataset_dir.glob('*nc')))\n",
    "\n",
    "# show first 5 files\n",
    "print('\\nFirst 5 files')\n",
    "pprint([x.name for x in Vel_dataset_files[:5]])\n",
    "\n",
    "# Select a dataset (the one containing temperature and salinity)\n",
    "dataset_num = 16\n",
    "\n",
    "print('selected ', ecco_v4r5_mon_mean_native_dataset_paths[dataset_num])\n",
    "dens_dataset_dir = ecco_v4r5_mon_mean_native_dataset_paths[dataset_num]\n",
    "\n",
    "# make a list of all of the files in the directory\n",
    "dens_dataset_files = np.sort(list(dens_dataset_dir.glob('*nc')))\n",
    "\n",
    "# show first 5 files\n",
    "print('\\nFirst 5 files')\n",
    "pprint([x.name for x in dens_dataset_files[:5]])"
   ]
  },
  {
   "cell_type": "code",
   "execution_count": 38,
   "id": "2694edef-ecbe-45fa-88e6-91a2c5dc97e9",
   "metadata": {},
   "outputs": [],
   "source": [
    "from dask.distributed import Client\n",
    "\n",
    "#  connec to existing LocalCluster\n",
    "# the port number will be different!\n",
    "client = Client(\"tcp://127.0.0.1:34259\") #find within Scheduler Address with orange red squares)\n",
    "client.ncores\n",
    "client.restart()"
   ]
  },
  {
   "cell_type": "code",
   "execution_count": 39,
   "id": "57a42688-1de5-48a6-8292-ef25e3aced5e",
   "metadata": {},
   "outputs": [
    {
     "name": "stdout",
     "output_type": "stream",
     "text": [
      "lazy-loading 336 granules\n",
      "lazy-loading 336 granules\n"
     ]
    }
   ],
   "source": [
    "start_time = time.time();\n",
    "ds_dens = None\n",
    "ds_vel = None\n",
    "\n",
    "files_to_load = Vel_dataset_files\n",
    "\n",
    "print(f'lazy-loading {len(files_to_load)} granules')\n",
    "# first lazy load\n",
    "ds_vel = xr.open_mfdataset(Vel_dataset_files, \n",
    "                          parallel=True, data_vars='minimal',\\\n",
    "                          coords='minimal',compat='override',\n",
    "                          combine='nested', concat_dim='time',\n",
    "                          chunks={'time':12, 'tile':13,' k':50,'j':90,'i':90})\n",
    "files_to_load = dens_dataset_files\n",
    "\n",
    "print(f'lazy-loading {len(files_to_load)} granules')\n",
    "# first lazy load\n",
    "ds_dens = xr.open_mfdataset(dens_dataset_files, \n",
    "                          parallel=True, data_vars='minimal',\\\n",
    "                          coords='minimal',compat='override',\n",
    "                          combine='nested', concat_dim='time',\n",
    "                          chunks={'time':12, 'tile':13,' k':50,'j':90,'i':90})\n",
    "\n",
    "\n",
    "total_time = time.time() - start_time"
   ]
  },
  {
   "cell_type": "code",
   "execution_count": 40,
   "id": "1dd99c90-e13b-40f7-8260-ff4300915301",
   "metadata": {},
   "outputs": [],
   "source": [
    "geom_path = '/efs_ecco/ECCO/V4/r5/netcdf/native/geometry/GRID_GEOMETRY_ECCO_V4r5_native_llc0090.nc'\n",
    "ds_geom = xr.open_dataset(geom_path)"
   ]
  },
  {
   "cell_type": "code",
   "execution_count": 41,
   "id": "aaebd9ba-3ab0-43c6-afc2-177e8d769c6c",
   "metadata": {},
   "outputs": [],
   "source": [
    "ecco_ds = xr.merge((ds_geom , ds_dens['RHOAnoma'],ds_vel[['UVELMASS','VVELMASS']]))"
   ]
  },
  {
   "cell_type": "code",
   "execution_count": 18,
   "id": "097286f4-230b-4a2b-b952-cdcb630447e9",
   "metadata": {},
   "outputs": [],
   "source": [
    "density = ds_dens['RHOAnoma']"
   ]
  },
  {
   "cell_type": "code",
   "execution_count": 19,
   "id": "e19afe21-42c3-469b-acb7-7ad930c739a3",
   "metadata": {},
   "outputs": [
    {
     "data": {
      "text/plain": [
       "(<Figure size 900x900 with 25 Axes>,\n",
       " array([[nan, nan, nan, ...,  0.,  0.,  0.],\n",
       "        [nan, nan, nan, ...,  0.,  0.,  0.],\n",
       "        [nan, nan, nan, ...,  0.,  0.,  0.],\n",
       "        ...,\n",
       "        [ 0.,  0.,  0., ..., nan, nan, nan],\n",
       "        [ 0.,  0.,  0., ..., nan, nan, nan],\n",
       "        [ 0.,  0.,  0., ..., nan, nan, nan]]))"
      ]
     },
     "execution_count": 19,
     "metadata": {},
     "output_type": "execute_result"
    },
    {
     "data": {
      "image/png": "[encoded data removed]",
      "text/plain": [
       "<Figure size 900x900 with 25 Axes>"
      ]
     },
     "metadata": {},
     "output_type": "display_data"
    }
   ],
   "source": [
    "ecco.plot_tiles(density.isel(k=0).isel(time=0))"
   ]
  },
  {
   "cell_type": "code",
   "execution_count": 20,
   "id": "5c6ff2c7-3ef4-4433-a260-2deffa6b1df2",
   "metadata": {
    "scrolled": true
   },
   "outputs": [
    {
     "data": {
      "text/html": [
       "<div><svg style=\"position: absolute; width: 0; height: 0; overflow: hidden\">\n",
       "<defs>\n",
       "<symbol id=\"icon-database\" viewBox=\"0 0 32 32\">\n",
       "<path d=\"M16 0c-8.837 0-16 2.239-16 5v4c0 2.761 7.163 5 16 5s16-2.239 16-5v-4c0-2.761-7.163-5-16-5z\"></path>\n",
       "<path d=\"M16 17c-8.837 0-16-2.239-16-5v6c0 2.761 7.163 5 16 5s16-2.239 16-5v-6c0 2.761-7.163 5-16 5z\"></path>\n",
       "<path d=\"M16 26c-8.837 0-16-2.239-16-5v6c0 2.761 7.163 5 16 5s16-2.239 16-5v-6c0 2.761-7.163 5-16 5z\"></path>\n",
       "</symbol>\n",
       "<symbol id=\"icon-file-text2\" viewBox=\"0 0 32 32\">\n",
       "<path d=\"M28.681 7.159c-0.694-0.947-1.662-2.053-2.724-3.116s-2.169-2.030-3.116-2.724c-1.612-1.182-2.393-1.319-2.841-1.319h-15.5c-1.378 0-2.5 1.121-2.5 2.5v27c0 1.378 1.122 2.5 2.5 2.5h23c1.378 0 2.5-1.122 2.5-2.5v-19.5c0-0.448-0.137-1.23-1.319-2.841zM24.543 5.457c0.959 0.959 1.712 1.825 2.268 2.543h-4.811v-4.811c0.718 0.556 1.584 1.309 2.543 2.268zM28 29.5c0 0.271-0.229 0.5-0.5 0.5h-23c-0.271 0-0.5-0.229-0.5-0.5v-27c0-0.271 0.229-0.5 0.5-0.5 0 0 15.499-0 15.5 0v7c0 0.552 0.448 1 1 1h7v19.5z\"></path>\n",
       "<path d=\"M23 26h-14c-0.552 0-1-0.448-1-1s0.448-1 1-1h14c0.552 0 1 0.448 1 1s-0.448 1-1 1z\"></path>\n",
       "<path d=\"M23 22h-14c-0.552 0-1-0.448-1-1s0.448-1 1-1h14c0.552 0 1 0.448 1 1s-0.448 1-1 1z\"></path>\n",
       "<path d=\"M23 18h-14c-0.552 0-1-0.448-1-1s0.448-1 1-1h14c0.552 0 1 0.448 1 1s-0.448 1-1 1z\"></path>\n",
       "</symbol>\n",
       "</defs>\n",
       "</svg>\n",
       "<style>/* CSS stylesheet for displaying xarray objects in jupyterlab.\n",
       " *\n",
       " */\n",
       "\n",
       ":root {\n",
       "  --xr-font-color0: var(--jp-content-font-color0, rgba(0, 0, 0, 1));\n",
       "  --xr-font-color2: var(--jp-content-font-color2, rgba(0, 0, 0, 0.54));\n",
       "  --xr-font-color3: var(--jp-content-font-color3, rgba(0, 0, 0, 0.38));\n",
       "  --xr-border-color: var(--jp-border-color2, #e0e0e0);\n",
       "  --xr-disabled-color: var(--jp-layout-color3, #bdbdbd);\n",
       "  --xr-background-color: var(--jp-layout-color0, white);\n",
       "  --xr-background-color-row-even: var(--jp-layout-color1, white);\n",
       "  --xr-background-color-row-odd: var(--jp-layout-color2, #eeeeee);\n",
       "}\n",
       "\n",
       "html[theme=\"dark\"],\n",
       "html[data-theme=\"dark\"],\n",
       "body[data-theme=\"dark\"],\n",
       "body.vscode-dark {\n",
       "  --xr-font-color0: rgba(255, 255, 255, 1);\n",
       "  --xr-font-color2: rgba(255, 255, 255, 0.54);\n",
       "  --xr-font-color3: rgba(255, 255, 255, 0.38);\n",
       "  --xr-border-color: #1f1f1f;\n",
       "  --xr-disabled-color: #515151;\n",
       "  --xr-background-color: #111111;\n",
       "  --xr-background-color-row-even: #111111;\n",
       "  --xr-background-color-row-odd: #313131;\n",
       "}\n",
       "\n",
       ".xr-wrap {\n",
       "  display: block !important;\n",
       "  min-width: 300px;\n",
       "  max-width: 700px;\n",
       "}\n",
       "\n",
       ".xr-text-repr-fallback {\n",
       "  /* fallback to plain text repr when CSS is not injected (untrusted notebook) */\n",
       "  display: none;\n",
       "}\n",
       "\n",
       ".xr-header {\n",
       "  padding-top: 6px;\n",
       "  padding-bottom: 6px;\n",
       "  margin-bottom: 4px;\n",
       "  border-bottom: solid 1px var(--xr-border-color);\n",
       "}\n",
       "\n",
       ".xr-header > div,\n",
       ".xr-header > ul {\n",
       "  display: inline;\n",
       "  margin-top: 0;\n",
       "  margin-bottom: 0;\n",
       "}\n",
       "\n",
       ".xr-obj-type,\n",
       ".xr-array-name {\n",
       "  margin-left: 2px;\n",
       "  margin-right: 10px;\n",
       "}\n",
       "\n",
       ".xr-obj-type {\n",
       "  color: var(--xr-font-color2);\n",
       "}\n",
       "\n",
       ".xr-sections {\n",
       "  padding-left: 0 !important;\n",
       "  display: grid;\n",
       "  grid-template-columns: 150px auto auto 1fr 0 20px 0 20px;\n",
       "}\n",
       "\n",
       ".xr-section-item {\n",
       "  display: contents;\n",
       "}\n",
       "\n",
       ".xr-section-item input {\n",
       "  display: inline-block;\n",
       "  opacity: 0;\n",
       "  height: 0;\n",
       "}\n",
       "\n",
       ".xr-section-item input + label {\n",
       "  color: var(--xr-disabled-color);\n",
       "}\n",
       "\n",
       ".xr-section-item input:enabled + label {\n",
       "  cursor: pointer;\n",
       "  color: var(--xr-font-color2);\n",
       "}\n",
       "\n",
       ".xr-section-item input:focus + label {\n",
       "  border: 2px solid var(--xr-font-color0);\n",
       "}\n",
       "\n",
       ".xr-section-item input:enabled + label:hover {\n",
       "  color: var(--xr-font-color0);\n",
       "}\n",
       "\n",
       ".xr-section-summary {\n",
       "  grid-column: 1;\n",
       "  color: var(--xr-font-color2);\n",
       "  font-weight: 500;\n",
       "}\n",
       "\n",
       ".xr-section-summary > span {\n",
       "  display: inline-block;\n",
       "  padding-left: 0.5em;\n",
       "}\n",
       "\n",
       ".xr-section-summary-in:disabled + label {\n",
       "  color: var(--xr-font-color2);\n",
       "}\n",
       "\n",
       ".xr-section-summary-in + label:before {\n",
       "  display: inline-block;\n",
       "  content: \"►\";\n",
       "  font-size: 11px;\n",
       "  width: 15px;\n",
       "  text-align: center;\n",
       "}\n",
       "\n",
       ".xr-section-summary-in:disabled + label:before {\n",
       "  color: var(--xr-disabled-color);\n",
       "}\n",
       "\n",
       ".xr-section-summary-in:checked + label:before {\n",
       "  content: \"▼\";\n",
       "}\n",
       "\n",
       ".xr-section-summary-in:checked + label > span {\n",
       "  display: none;\n",
       "}\n",
       "\n",
       ".xr-section-summary,\n",
       ".xr-section-inline-details {\n",
       "  padding-top: 4px;\n",
       "  padding-bottom: 4px;\n",
       "}\n",
       "\n",
       ".xr-section-inline-details {\n",
       "  grid-column: 2 / -1;\n",
       "}\n",
       "\n",
       ".xr-section-details {\n",
       "  display: none;\n",
       "  grid-column: 1 / -1;\n",
       "  margin-bottom: 5px;\n",
       "}\n",
       "\n",
       ".xr-section-summary-in:checked ~ .xr-section-details {\n",
       "  display: contents;\n",
       "}\n",
       "\n",
       ".xr-array-wrap {\n",
       "  grid-column: 1 / -1;\n",
       "  display: grid;\n",
       "  grid-template-columns: 20px auto;\n",
       "}\n",
       "\n",
       ".xr-array-wrap > label {\n",
       "  grid-column: 1;\n",
       "  vertical-align: top;\n",
       "}\n",
       "\n",
       ".xr-preview {\n",
       "  color: var(--xr-font-color3);\n",
       "}\n",
       "\n",
       ".xr-array-preview,\n",
       ".xr-array-data {\n",
       "  padding: 0 5px !important;\n",
       "  grid-column: 2;\n",
       "}\n",
       "\n",
       ".xr-array-data,\n",
       ".xr-array-in:checked ~ .xr-array-preview {\n",
       "  display: none;\n",
       "}\n",
       "\n",
       ".xr-array-in:checked ~ .xr-array-data,\n",
       ".xr-array-preview {\n",
       "  display: inline-block;\n",
       "}\n",
       "\n",
       ".xr-dim-list {\n",
       "  display: inline-block !important;\n",
       "  list-style: none;\n",
       "  padding: 0 !important;\n",
       "  margin: 0;\n",
       "}\n",
       "\n",
       ".xr-dim-list li {\n",
       "  display: inline-block;\n",
       "  padding: 0;\n",
       "  margin: 0;\n",
       "}\n",
       "\n",
       ".xr-dim-list:before {\n",
       "  content: \"(\";\n",
       "}\n",
       "\n",
       ".xr-dim-list:after {\n",
       "  content: \")\";\n",
       "}\n",
       "\n",
       ".xr-dim-list li:not(:last-child):after {\n",
       "  content: \",\";\n",
       "  padding-right: 5px;\n",
       "}\n",
       "\n",
       ".xr-has-index {\n",
       "  font-weight: bold;\n",
       "}\n",
       "\n",
       ".xr-var-list,\n",
       ".xr-var-item {\n",
       "  display: contents;\n",
       "}\n",
       "\n",
       ".xr-var-item > div,\n",
       ".xr-var-item label,\n",
       ".xr-var-item > .xr-var-name span {\n",
       "  background-color: var(--xr-background-color-row-even);\n",
       "  margin-bottom: 0;\n",
       "}\n",
       "\n",
       ".xr-var-item > .xr-var-name:hover span {\n",
       "  padding-right: 5px;\n",
       "}\n",
       "\n",
       ".xr-var-list > li:nth-child(odd) > div,\n",
       ".xr-var-list > li:nth-child(odd) > label,\n",
       ".xr-var-list > li:nth-child(odd) > .xr-var-name span {\n",
       "  background-color: var(--xr-background-color-row-odd);\n",
       "}\n",
       "\n",
       ".xr-var-name {\n",
       "  grid-column: 1;\n",
       "}\n",
       "\n",
       ".xr-var-dims {\n",
       "  grid-column: 2;\n",
       "}\n",
       "\n",
       ".xr-var-dtype {\n",
       "  grid-column: 3;\n",
       "  text-align: right;\n",
       "  color: var(--xr-font-color2);\n",
       "}\n",
       "\n",
       ".xr-var-preview {\n",
       "  grid-column: 4;\n",
       "}\n",
       "\n",
       ".xr-index-preview {\n",
       "  grid-column: 2 / 5;\n",
       "  color: var(--xr-font-color2);\n",
       "}\n",
       "\n",
       ".xr-var-name,\n",
       ".xr-var-dims,\n",
       ".xr-var-dtype,\n",
       ".xr-preview,\n",
       ".xr-attrs dt {\n",
       "  white-space: nowrap;\n",
       "  overflow: hidden;\n",
       "  text-overflow: ellipsis;\n",
       "  padding-right: 10px;\n",
       "}\n",
       "\n",
       ".xr-var-name:hover,\n",
       ".xr-var-dims:hover,\n",
       ".xr-var-dtype:hover,\n",
       ".xr-attrs dt:hover {\n",
       "  overflow: visible;\n",
       "  width: auto;\n",
       "  z-index: 1;\n",
       "}\n",
       "\n",
       ".xr-var-attrs,\n",
       ".xr-var-data,\n",
       ".xr-index-data {\n",
       "  display: none;\n",
       "  background-color: var(--xr-background-color) !important;\n",
       "  padding-bottom: 5px !important;\n",
       "}\n",
       "\n",
       ".xr-var-attrs-in:checked ~ .xr-var-attrs,\n",
       ".xr-var-data-in:checked ~ .xr-var-data,\n",
       ".xr-index-data-in:checked ~ .xr-index-data {\n",
       "  display: block;\n",
       "}\n",
       "\n",
       ".xr-var-data > table {\n",
       "  float: right;\n",
       "}\n",
       "\n",
       ".xr-var-name span,\n",
       ".xr-var-data,\n",
       ".xr-index-name div,\n",
       ".xr-index-data,\n",
       ".xr-attrs {\n",
       "  padding-left: 25px !important;\n",
       "}\n",
       "\n",
       ".xr-attrs,\n",
       ".xr-var-attrs,\n",
       ".xr-var-data,\n",
       ".xr-index-data {\n",
       "  grid-column: 1 / -1;\n",
       "}\n",
       "\n",
       "dl.xr-attrs {\n",
       "  padding: 0;\n",
       "  margin: 0;\n",
       "  display: grid;\n",
       "  grid-template-columns: 125px auto;\n",
       "}\n",
       "\n",
       ".xr-attrs dt,\n",
       ".xr-attrs dd {\n",
       "  padding: 0;\n",
       "  margin: 0;\n",
       "  float: left;\n",
       "  padding-right: 10px;\n",
       "  width: auto;\n",
       "}\n",
       "\n",
       ".xr-attrs dt {\n",
       "  font-weight: normal;\n",
       "  grid-column: 1;\n",
       "}\n",
       "\n",
       ".xr-attrs dt:hover span {\n",
       "  display: inline-block;\n",
       "  background: var(--xr-background-color);\n",
       "  padding-right: 10px;\n",
       "}\n",
       "\n",
       ".xr-attrs dd {\n",
       "  grid-column: 2;\n",
       "  white-space: pre-wrap;\n",
       "  word-break: break-all;\n",
       "}\n",
       "\n",
       ".xr-icon-database,\n",
       ".xr-icon-file-text2,\n",
       ".xr-no-icon {\n",
       "  display: inline-block;\n",
       "  vertical-align: middle;\n",
       "  width: 1em;\n",
       "  height: 1.5em !important;\n",
       "  stroke-width: 0;\n",
       "  stroke: currentColor;\n",
       "  fill: currentColor;\n",
       "}\n",
       "</style><pre class='xr-text-repr-fallback'>&lt;xarray.DataArray &#x27;UVELMASS&#x27; (k: 50)&gt; Size: 200B\n",
       "array([ 7.5072558e-03,  8.9498470e-03,  9.5804613e-03,  9.4900541e-03,\n",
       "        9.1728410e-03,  8.9691877e-03,  8.8081881e-03,  9.0194363e-03,\n",
       "        9.1468068e-03,  6.6166366e-03,  7.0488453e-03,  4.8515508e-03,\n",
       "        4.7395062e-03,  4.2650881e-03,  4.0693129e-03,  4.0845419e-03,\n",
       "        3.8529539e-03,  3.6892081e-03,  3.5300050e-03,  3.2373525e-03,\n",
       "        2.8546450e-03,  2.4205660e-03,  1.8763297e-03,  1.1523556e-03,\n",
       "        4.0766783e-04, -5.6970839e-05, -2.0840837e-04, -2.3615023e-04,\n",
       "       -2.0992062e-04, -1.0725260e-04,  5.0099428e-05,  2.3152106e-04,\n",
       "        4.2724534e-04,  5.9097062e-04,  6.4785097e-04,  5.0674879e-04,\n",
       "        1.5649668e-04, -2.1014659e-04, -3.7484945e-04, -1.7267998e-04,\n",
       "        3.1854218e-04,  8.3163689e-04,  1.2888248e-03,  1.6075301e-03,\n",
       "        1.7539698e-03,  1.8234412e-03,  1.6643131e-03,  1.2980072e-03,\n",
       "        1.1181389e-03,            nan], dtype=float32)\n",
       "Coordinates:\n",
       "    i_g      int32 4B 70\n",
       "    j        int32 4B 70\n",
       "  * k        (k) int32 200B 0 1 2 3 4 5 6 7 8 9 ... 41 42 43 44 45 46 47 48 49\n",
       "    tile     int32 4B 10\n",
       "    time     datetime64[ns] 8B 1992-01-16T18:00:00\n",
       "    Z        (k) float32 200B -5.0 -15.0 -25.0 ... -5.461e+03 -5.906e+03\n",
       "Attributes:\n",
       "    valid_min:              -0.71189505\n",
       "    valid_max:              0.8394877\n",
       "    coverage_content_type:  modelResult\n",
       "    direction:              &gt;0 increases volume\n",
       "    long_name:              Horizontal velocity in the model +x direction per...\n",
       "    units:                  m s-1\n",
       "    comment:                Horizontal velocity in the model +x direction ave...</pre><div class='xr-wrap' style='display:none'><div class='xr-header'><div class='xr-obj-type'>xarray.DataArray</div><div class='xr-array-name'>'UVELMASS'</div><ul class='xr-dim-list'><li><span class='xr-has-index'>k</span>: 50</li></ul></div><ul class='xr-sections'><li class='xr-section-item'><div class='xr-array-wrap'><input id='section-ceedebb3-b7e7-4e79-905d-5de7d1ff584e' class='xr-array-in' type='checkbox' checked><label for='section-ceedebb3-b7e7-4e79-905d-5de7d1ff584e' title='Show/hide data repr'><svg class='icon xr-icon-database'><use xlink:href='#icon-database'></use></svg></label><div class='xr-array-preview xr-preview'><span>0.007507 0.00895 0.00958 0.00949 ... 0.001664 0.001298 0.001118 nan</span></div><div class='xr-array-data'><pre>array([ 7.5072558e-03,  8.9498470e-03,  9.5804613e-03,  9.4900541e-03,\n",
       "        9.1728410e-03,  8.9691877e-03,  8.8081881e-03,  9.0194363e-03,\n",
       "        9.1468068e-03,  6.6166366e-03,  7.0488453e-03,  4.8515508e-03,\n",
       "        4.7395062e-03,  4.2650881e-03,  4.0693129e-03,  4.0845419e-03,\n",
       "        3.8529539e-03,  3.6892081e-03,  3.5300050e-03,  3.2373525e-03,\n",
       "        2.8546450e-03,  2.4205660e-03,  1.8763297e-03,  1.1523556e-03,\n",
       "        4.0766783e-04, -5.6970839e-05, -2.0840837e-04, -2.3615023e-04,\n",
       "       -2.0992062e-04, -1.0725260e-04,  5.0099428e-05,  2.3152106e-04,\n",
       "        4.2724534e-04,  5.9097062e-04,  6.4785097e-04,  5.0674879e-04,\n",
       "        1.5649668e-04, -2.1014659e-04, -3.7484945e-04, -1.7267998e-04,\n",
       "        3.1854218e-04,  8.3163689e-04,  1.2888248e-03,  1.6075301e-03,\n",
       "        1.7539698e-03,  1.8234412e-03,  1.6643131e-03,  1.2980072e-03,\n",
       "        1.1181389e-03,            nan], dtype=float32)</pre></div></div></li><li class='xr-section-item'><input id='section-1e49c6be-9371-4c41-a87c-8955e621178f' class='xr-section-summary-in' type='checkbox'  checked><label for='section-1e49c6be-9371-4c41-a87c-8955e621178f' class='xr-section-summary' >Coordinates: <span>(6)</span></label><div class='xr-section-inline-details'></div><div class='xr-section-details'><ul class='xr-var-list'><li class='xr-var-item'><div class='xr-var-name'><span>i_g</span></div><div class='xr-var-dims'>()</div><div class='xr-var-dtype'>int32</div><div class='xr-var-preview xr-preview'>70</div><input id='attrs-ad6daad1-a691-4400-9372-a8546e6aa610' class='xr-var-attrs-in' type='checkbox' ><label for='attrs-ad6daad1-a691-4400-9372-a8546e6aa610' title='Show/Hide attributes'><svg class='icon xr-icon-file-text2'><use xlink:href='#icon-file-text2'></use></svg></label><input id='data-461ab30e-1f6a-4b5a-8d6e-929c2b198bc9' class='xr-var-data-in' type='checkbox'><label for='data-461ab30e-1f6a-4b5a-8d6e-929c2b198bc9' title='Show/Hide data repr'><svg class='icon xr-icon-database'><use xlink:href='#icon-database'></use></svg></label><div class='xr-var-attrs'><dl class='xr-attrs'><dt><span>axis :</span></dt><dd>X</dd><dt><span>long_name :</span></dt><dd>grid index in x for variables at &#x27;u&#x27; and &#x27;g&#x27; locations</dd><dt><span>c_grid_axis_shift :</span></dt><dd>-0.5</dd><dt><span>swap_dim :</span></dt><dd>XG</dd><dt><span>comment :</span></dt><dd>In the Arakawa C-grid system, &#x27;u&#x27; (e.g., UVEL) and &#x27;g&#x27; variables (e.g., XG) have the same x coordinate on the model grid.</dd><dt><span>coverage_content_type :</span></dt><dd>coordinate</dd></dl></div><div class='xr-var-data'><pre>array(70, dtype=int32)</pre></div></li><li class='xr-var-item'><div class='xr-var-name'><span>j</span></div><div class='xr-var-dims'>()</div><div class='xr-var-dtype'>int32</div><div class='xr-var-preview xr-preview'>70</div><input id='attrs-a009bb13-4716-44bf-bccc-96cd686650e8' class='xr-var-attrs-in' type='checkbox' ><label for='attrs-a009bb13-4716-44bf-bccc-96cd686650e8' title='Show/Hide attributes'><svg class='icon xr-icon-file-text2'><use xlink:href='#icon-file-text2'></use></svg></label><input id='data-6b146e6c-5bc2-4b34-adab-ee906bf937eb' class='xr-var-data-in' type='checkbox'><label for='data-6b146e6c-5bc2-4b34-adab-ee906bf937eb' title='Show/Hide data repr'><svg class='icon xr-icon-database'><use xlink:href='#icon-database'></use></svg></label><div class='xr-var-attrs'><dl class='xr-attrs'><dt><span>axis :</span></dt><dd>Y</dd><dt><span>long_name :</span></dt><dd>grid index in y for variables at tracer and &#x27;u&#x27; locations</dd><dt><span>swap_dim :</span></dt><dd>YC</dd><dt><span>comment :</span></dt><dd>In the Arakawa C-grid system, tracer (e.g., THETA) and &#x27;u&#x27; variables (e.g., UVEL) have the same y coordinate on the model grid.</dd><dt><span>coverage_content_type :</span></dt><dd>coordinate</dd></dl></div><div class='xr-var-data'><pre>array(70, dtype=int32)</pre></div></li><li class='xr-var-item'><div class='xr-var-name'><span class='xr-has-index'>k</span></div><div class='xr-var-dims'>(k)</div><div class='xr-var-dtype'>int32</div><div class='xr-var-preview xr-preview'>0 1 2 3 4 5 6 ... 44 45 46 47 48 49</div><input id='attrs-edb45bd6-6734-47f7-a05b-34cf0db44cf5' class='xr-var-attrs-in' type='checkbox' ><label for='attrs-edb45bd6-6734-47f7-a05b-34cf0db44cf5' title='Show/Hide attributes'><svg class='icon xr-icon-file-text2'><use xlink:href='#icon-file-text2'></use></svg></label><input id='data-ae90d751-87df-4609-9abb-caf736c5f9a0' class='xr-var-data-in' type='checkbox'><label for='data-ae90d751-87df-4609-9abb-caf736c5f9a0' title='Show/Hide data repr'><svg class='icon xr-icon-database'><use xlink:href='#icon-database'></use></svg></label><div class='xr-var-attrs'><dl class='xr-attrs'><dt><span>axis :</span></dt><dd>Z</dd><dt><span>long_name :</span></dt><dd>grid index in z for tracer variables</dd><dt><span>swap_dim :</span></dt><dd>Z</dd><dt><span>coverage_content_type :</span></dt><dd>coordinate</dd></dl></div><div class='xr-var-data'><pre>array([ 0,  1,  2,  3,  4,  5,  6,  7,  8,  9, 10, 11, 12, 13, 14, 15, 16, 17,\n",
       "       18, 19, 20, 21, 22, 23, 24, 25, 26, 27, 28, 29, 30, 31, 32, 33, 34, 35,\n",
       "       36, 37, 38, 39, 40, 41, 42, 43, 44, 45, 46, 47, 48, 49], dtype=int32)</pre></div></li><li class='xr-var-item'><div class='xr-var-name'><span>tile</span></div><div class='xr-var-dims'>()</div><div class='xr-var-dtype'>int32</div><div class='xr-var-preview xr-preview'>10</div><input id='attrs-9bdf899a-4922-40e2-942a-15e95a59f35a' class='xr-var-attrs-in' type='checkbox' ><label for='attrs-9bdf899a-4922-40e2-942a-15e95a59f35a' title='Show/Hide attributes'><svg class='icon xr-icon-file-text2'><use xlink:href='#icon-file-text2'></use></svg></label><input id='data-eb8c0966-5a2b-4fd3-8bf7-132aaada3070' class='xr-var-data-in' type='checkbox'><label for='data-eb8c0966-5a2b-4fd3-8bf7-132aaada3070' title='Show/Hide data repr'><svg class='icon xr-icon-database'><use xlink:href='#icon-database'></use></svg></label><div class='xr-var-attrs'><dl class='xr-attrs'><dt><span>long_name :</span></dt><dd>lat-lon-cap tile index</dd><dt><span>comment :</span></dt><dd>The ECCO V4 horizontal model grid is divided into 13 tiles of 90x90 cells for convenience.</dd><dt><span>coverage_content_type :</span></dt><dd>coordinate</dd></dl></div><div class='xr-var-data'><pre>array(10, dtype=int32)</pre></div></li><li class='xr-var-item'><div class='xr-var-name'><span>time</span></div><div class='xr-var-dims'>()</div><div class='xr-var-dtype'>datetime64[ns]</div><div class='xr-var-preview xr-preview'>1992-01-16T18:00:00</div><input id='attrs-42d44367-9c66-4bf0-bba3-2ae862751e71' class='xr-var-attrs-in' type='checkbox' ><label for='attrs-42d44367-9c66-4bf0-bba3-2ae862751e71' title='Show/Hide attributes'><svg class='icon xr-icon-file-text2'><use xlink:href='#icon-file-text2'></use></svg></label><input id='data-3bc24e16-2e7b-454e-b2d2-d7deed886ede' class='xr-var-data-in' type='checkbox'><label for='data-3bc24e16-2e7b-454e-b2d2-d7deed886ede' title='Show/Hide data repr'><svg class='icon xr-icon-database'><use xlink:href='#icon-database'></use></svg></label><div class='xr-var-attrs'><dl class='xr-attrs'><dt><span>axis :</span></dt><dd>T</dd><dt><span>bounds :</span></dt><dd>time_bnds</dd><dt><span>comment :</span></dt><dd></dd><dt><span>coverage_content_type :</span></dt><dd>coordinate</dd><dt><span>long_name :</span></dt><dd>center time of averaging period</dd><dt><span>standard_name :</span></dt><dd>time</dd></dl></div><div class='xr-var-data'><pre>array(&#x27;1992-01-16T18:00:00.000000000&#x27;, dtype=&#x27;datetime64[ns]&#x27;)</pre></div></li><li class='xr-var-item'><div class='xr-var-name'><span>Z</span></div><div class='xr-var-dims'>(k)</div><div class='xr-var-dtype'>float32</div><div class='xr-var-preview xr-preview'>-5.0 -15.0 ... -5.906e+03</div><input id='attrs-5379b9f8-8d5c-4818-b286-99870580f90f' class='xr-var-attrs-in' type='checkbox' ><label for='attrs-5379b9f8-8d5c-4818-b286-99870580f90f' title='Show/Hide attributes'><svg class='icon xr-icon-file-text2'><use xlink:href='#icon-file-text2'></use></svg></label><input id='data-afaabf29-4d91-48e3-bdf3-84294bdafa2f' class='xr-var-data-in' type='checkbox'><label for='data-afaabf29-4d91-48e3-bdf3-84294bdafa2f' title='Show/Hide data repr'><svg class='icon xr-icon-database'><use xlink:href='#icon-database'></use></svg></label><div class='xr-var-attrs'><dl class='xr-attrs'><dt><span>long_name :</span></dt><dd>depth of tracer grid cell center</dd><dt><span>units :</span></dt><dd>m</dd><dt><span>positive :</span></dt><dd>up</dd><dt><span>bounds :</span></dt><dd>Z_bnds</dd><dt><span>comment :</span></dt><dd>Non-uniform vertical spacing.</dd><dt><span>coverage_content_type :</span></dt><dd>coordinate</dd><dt><span>standard_name :</span></dt><dd>depth</dd></dl></div><div class='xr-var-data'><pre>array([-5.000000e+00, -1.500000e+01, -2.500000e+01, -3.500000e+01,\n",
       "       -4.500000e+01, -5.500000e+01, -6.500000e+01, -7.500500e+01,\n",
       "       -8.502500e+01, -9.509500e+01, -1.053100e+02, -1.158700e+02,\n",
       "       -1.271500e+02, -1.397400e+02, -1.544700e+02, -1.724000e+02,\n",
       "       -1.947350e+02, -2.227100e+02, -2.574700e+02, -2.999300e+02,\n",
       "       -3.506800e+02, -4.099300e+02, -4.774700e+02, -5.527100e+02,\n",
       "       -6.347350e+02, -7.224000e+02, -8.144700e+02, -9.097400e+02,\n",
       "       -1.007155e+03, -1.105905e+03, -1.205535e+03, -1.306205e+03,\n",
       "       -1.409150e+03, -1.517095e+03, -1.634175e+03, -1.765135e+03,\n",
       "       -1.914150e+03, -2.084035e+03, -2.276225e+03, -2.491250e+03,\n",
       "       -2.729250e+03, -2.990250e+03, -3.274250e+03, -3.581250e+03,\n",
       "       -3.911250e+03, -4.264250e+03, -4.640250e+03, -5.039250e+03,\n",
       "       -5.461250e+03, -5.906250e+03], dtype=float32)</pre></div></li></ul></div></li><li class='xr-section-item'><input id='section-f044e4db-96e6-4534-ad19-9d79e240ba0a' class='xr-section-summary-in' type='checkbox'  ><label for='section-f044e4db-96e6-4534-ad19-9d79e240ba0a' class='xr-section-summary' >Indexes: <span>(1)</span></label><div class='xr-section-inline-details'></div><div class='xr-section-details'><ul class='xr-var-list'><li class='xr-var-item'><div class='xr-index-name'><div>k</div></div><div class='xr-index-preview'>PandasIndex</div><input type='checkbox' disabled/><label></label><input id='index-e78453d4-2613-4fb2-ae3c-83388ac2f95d' class='xr-index-data-in' type='checkbox'/><label for='index-e78453d4-2613-4fb2-ae3c-83388ac2f95d' title='Show/Hide index repr'><svg class='icon xr-icon-database'><use xlink:href='#icon-database'></use></svg></label><div class='xr-index-data'><pre>PandasIndex(Index([ 0,  1,  2,  3,  4,  5,  6,  7,  8,  9, 10, 11, 12, 13, 14, 15, 16, 17,\n",
       "       18, 19, 20, 21, 22, 23, 24, 25, 26, 27, 28, 29, 30, 31, 32, 33, 34, 35,\n",
       "       36, 37, 38, 39, 40, 41, 42, 43, 44, 45, 46, 47, 48, 49],\n",
       "      dtype=&#x27;int32&#x27;, name=&#x27;k&#x27;))</pre></div></li></ul></div></li><li class='xr-section-item'><input id='section-f914f865-1cf6-45e0-a48d-088bd98402c6' class='xr-section-summary-in' type='checkbox'  checked><label for='section-f914f865-1cf6-45e0-a48d-088bd98402c6' class='xr-section-summary' >Attributes: <span>(7)</span></label><div class='xr-section-inline-details'></div><div class='xr-section-details'><dl class='xr-attrs'><dt><span>valid_min :</span></dt><dd>-0.71189505</dd><dt><span>valid_max :</span></dt><dd>0.8394877</dd><dt><span>coverage_content_type :</span></dt><dd>modelResult</dd><dt><span>direction :</span></dt><dd>&gt;0 increases volume</dd><dt><span>long_name :</span></dt><dd>Horizontal velocity in the model +x direction per unit area of the grid cell &#x27;u&#x27; face</dd><dt><span>units :</span></dt><dd>m s-1</dd><dt><span>comment :</span></dt><dd>Horizontal velocity in the model +x direction averaged over the area of the tracer grid cell &#x27;u&#x27; face on the native model grid (&#x27;u&#x27; grid cell face area = drF dyG). Accounts for partial cells (hFacW &lt; 1) and for time-varying grid cell thickness (z* coordinate system). Volume flux in +x = UVELMASS drF dyG. Note: in the Arakawa-C grid, horizontal velocities are staggered relative to the tracer cells. Positive UVELMASS(i,j,k) corresponds to +x fluxes through the &#x27;u&#x27; face of the tracer cell at (i,j,k). UVELMASS can be used for volume flux calculations because it accounts for the grid cell thicknesses variations in the +x direction (hFacW) with time (z* coordinate system). Also, the model +x direction does not necessarily correspond to the geographical east-west direction because the x and y axes of the model&#x27;s curvilinear lat-lon-cap (llc) grid have arbitrary orientations which vary within and across tiles. See VVELMASS and WVELMASS</dd></dl></div></li></ul></div></div>"
      ],
      "text/plain": [
       "<xarray.DataArray 'UVELMASS' (k: 50)> Size: 200B\n",
       "array([ 7.5072558e-03,  8.9498470e-03,  9.5804613e-03,  9.4900541e-03,\n",
       "        9.1728410e-03,  8.9691877e-03,  8.8081881e-03,  9.0194363e-03,\n",
       "        9.1468068e-03,  6.6166366e-03,  7.0488453e-03,  4.8515508e-03,\n",
       "        4.7395062e-03,  4.2650881e-03,  4.0693129e-03,  4.0845419e-03,\n",
       "        3.8529539e-03,  3.6892081e-03,  3.5300050e-03,  3.2373525e-03,\n",
       "        2.8546450e-03,  2.4205660e-03,  1.8763297e-03,  1.1523556e-03,\n",
       "        4.0766783e-04, -5.6970839e-05, -2.0840837e-04, -2.3615023e-04,\n",
       "       -2.0992062e-04, -1.0725260e-04,  5.0099428e-05,  2.3152106e-04,\n",
       "        4.2724534e-04,  5.9097062e-04,  6.4785097e-04,  5.0674879e-04,\n",
       "        1.5649668e-04, -2.1014659e-04, -3.7484945e-04, -1.7267998e-04,\n",
       "        3.1854218e-04,  8.3163689e-04,  1.2888248e-03,  1.6075301e-03,\n",
       "        1.7539698e-03,  1.8234412e-03,  1.6643131e-03,  1.2980072e-03,\n",
       "        1.1181389e-03,            nan], dtype=float32)\n",
       "Coordinates:\n",
       "    i_g      int32 4B 70\n",
       "    j        int32 4B 70\n",
       "  * k        (k) int32 200B 0 1 2 3 4 5 6 7 8 9 ... 41 42 43 44 45 46 47 48 49\n",
       "    tile     int32 4B 10\n",
       "    time     datetime64[ns] 8B 1992-01-16T18:00:00\n",
       "    Z        (k) float32 200B -5.0 -15.0 -25.0 ... -5.461e+03 -5.906e+03\n",
       "Attributes:\n",
       "    valid_min:              -0.71189505\n",
       "    valid_max:              0.8394877\n",
       "    coverage_content_type:  modelResult\n",
       "    direction:              >0 increases volume\n",
       "    long_name:              Horizontal velocity in the model +x direction per...\n",
       "    units:                  m s-1\n",
       "    comment:                Horizontal velocity in the model +x direction ave..."
      ]
     },
     "execution_count": 20,
     "metadata": {},
     "output_type": "execute_result"
    }
   ],
   "source": [
    "vel_trial = ds_vel.UVELMASS[0,:,10,70,70].load()\n",
    "rho_trial = density[0,:,10,70,70].load()\n",
    "vel_trial"
   ]
  },
  {
   "cell_type": "code",
   "execution_count": 21,
   "id": "cc1e027d-75fe-49a4-a505-d5d0afb94212",
   "metadata": {},
   "outputs": [],
   "source": [
    "target_sig_levels = np.arange(-11,26,.5)"
   ]
  },
  {
   "cell_type": "code",
   "execution_count": 22,
   "id": "7ffeb0c7-b09e-4c4c-a117-96d5b8617c5b",
   "metadata": {},
   "outputs": [],
   "source": [
    "vel_dens = np.interp(target_sig_levels, rho_trial.values, vel_trial.values,left= np.nan,right= np.nan)"
   ]
  },
  {
   "cell_type": "code",
   "execution_count": 23,
   "id": "77ab234d-6b15-4f23-a4a1-82c806a874c4",
   "metadata": {},
   "outputs": [
    {
     "data": {
      "text/plain": [
       "<matplotlib.collections.PathCollection at 0x7f438d421850>"
      ]
     },
     "execution_count": 23,
     "metadata": {},
     "output_type": "execute_result"
    },
    {
     "data": {
      "image/png": "[encoded data removed]",
      "text/plain": [
       "<Figure size 640x480 with 1 Axes>"
      ]
     },
     "metadata": {},
     "output_type": "display_data"
    }
   ],
   "source": [
    "plt.scatter(vel_trial,vel_trial.Z)"
   ]
  },
  {
   "cell_type": "code",
   "execution_count": 24,
   "id": "de6e5b14-c606-44a5-8c0f-b0eb878f8759",
   "metadata": {},
   "outputs": [
    {
     "data": {
      "image/png": "[encoded data removed]",
      "text/plain": [
       "<Figure size 640x480 with 1 Axes>"
      ]
     },
     "metadata": {},
     "output_type": "display_data"
    }
   ],
   "source": [
    "plt.scatter(vel_dens,target_sig_levels)\n",
    "plt.gca().invert_yaxis()"
   ]
  },
  {
   "cell_type": "code",
   "execution_count": 43,
   "id": "951ecdb2-ff6d-4388-b07a-070717d06a4f",
   "metadata": {},
   "outputs": [],
   "source": [
    "#pick a latitude\n",
    "# Get array of 1's at and north of latitude\n",
    "lat = 45\n",
    "ones = xr.ones_like(ecco_ds.YC)\n",
    "dome_maskC = ones.where(ecco_ds.YC>=lat,0).compute()"
   ]
  },
  {
   "cell_type": "code",
   "execution_count": 44,
   "id": "3d6090ba-ebd7-4f1a-85d5-66e8dd3ef036",
   "metadata": {},
   "outputs": [],
   "source": [
    "maskC = ds_geom.maskC.compute()\n",
    "maskS = ds_geom.maskS.compute()\n",
    "maskW = ds_geom.maskW.compute()"
   ]
  },
  {
   "cell_type": "code",
   "execution_count": 45,
   "id": "5bb1e49a-8d84-4113-ae1d-bc385530b5c4",
   "metadata": {},
   "outputs": [],
   "source": [
    "grid = ecco.get_llc_grid(ecco_ds)"
   ]
  },
  {
   "cell_type": "code",
   "execution_count": 46,
   "id": "9a210924-c90a-48a5-99f8-a067cafabc9c",
   "metadata": {
    "scrolled": true
   },
   "outputs": [
    {
     "name": "stderr",
     "output_type": "stream",
     "text": [
      "/srv/conda/envs/notebook/lib/python3.12/site-packages/xgcm/grid_ufunc.py:832: FutureWarning: The return type of `Dataset.dims` will be changed to return a set of dimension names in future, in order to be more consistent with `DataArray.dims`. To access a mapping from dimension names to lengths, please use `Dataset.sizes`.\n",
      "  out_dim: grid._ds.dims[out_dim] for arg in out_core_dims for out_dim in arg\n"
     ]
    }
   ],
   "source": [
    "lat_maskW = grid.diff(dome_maskC,'X',boundary='fill')\n",
    "lat_maskS = grid.diff(dome_maskC,'Y',boundary='fill')"
   ]
  },
  {
   "cell_type": "code",
   "execution_count": 47,
   "id": "42a2a7e9-1cfc-4906-b121-22bb45b6ee3f",
   "metadata": {},
   "outputs": [],
   "source": [
    "exp_mask = np.abs(lat_maskW.values + lat_maskS.values)\n",
    "exp_mask = np.where(np.abs(exp_mask)>0, 1, 0)"
   ]
  },
  {
   "cell_type": "code",
   "execution_count": 48,
   "id": "7303187e-a205-453d-ae88-f31eb4a8e338",
   "metadata": {},
   "outputs": [
    {
     "data": {
      "image/png": "[encoded data removed]",
      "text/plain": [
       "<Figure size 900x900 with 25 Axes>"
      ]
     },
     "metadata": {},
     "output_type": "display_data"
    }
   ],
   "source": [
    "ecco.plot_tiles(exp_mask)\n",
    "exp_mask_DA = ecco_ds['RHOAnoma'][0][0]*0; \n",
    "exp_mask_DA.name = 'exp_mask'\n",
    "exp_mask_DA.values = exp_mask\n",
    "exp_mask_DA;"
   ]
  },
  {
   "cell_type": "code",
   "execution_count": 49,
   "id": "dc86c690-7571-471a-b3a9-8ece38a17e20",
   "metadata": {},
   "outputs": [],
   "source": [
    "exp_2D_xy_slice = ecco_ds['RHOAnoma'][0][0]"
   ]
  },
  {
   "cell_type": "code",
   "execution_count": 50,
   "id": "091a2358-5f27-4f05-b450-80fa413a5c4d",
   "metadata": {},
   "outputs": [
    {
     "name": "stdout",
     "output_type": "stream",
     "text": [
      "360\n"
     ]
    }
   ],
   "source": [
    "exp_mask_ins = np.where(exp_mask_DA.values.ravel() > 0)[0]\n",
    "print(len(exp_mask_ins))"
   ]
  },
  {
   "cell_type": "code",
   "execution_count": 52,
   "id": "31ef08c0-c867-4d24-bbcb-25a47fe6f642",
   "metadata": {},
   "outputs": [],
   "source": [
    "tt_lons = ecco_ds.XC.values.ravel()[exp_mask_ins]"
   ]
  },
  {
   "cell_type": "code",
   "execution_count": 56,
   "id": "0ffe2099-79b6-40d1-aabc-5829d4117048",
   "metadata": {
    "scrolled": true
   },
   "outputs": [
    {
     "ename": "KeyError",
     "evalue": "'RHOAnoma'",
     "output_type": "error",
     "traceback": [
      "\u001b[0;31m---------------------------------------------------------------------------\u001b[0m",
      "\u001b[0;31mKeyError\u001b[0m                                  Traceback (most recent call last)",
      "Cell \u001b[0;32mIn[56], line 10\u001b[0m\n\u001b[1;32m      8\u001b[0m vvs \u001b[38;5;241m=\u001b[39m []\n\u001b[1;32m      9\u001b[0m \u001b[38;5;28;01mfor\u001b[39;00m k \u001b[38;5;129;01min\u001b[39;00m \u001b[38;5;28mrange\u001b[39m(\u001b[38;5;241m50\u001b[39m):\n\u001b[0;32m---> 10\u001b[0m     rho \u001b[38;5;241m=\u001b[39m\u001b[43mrho_an_mean\u001b[49m\u001b[43m[\u001b[49m\u001b[43mk\u001b[49m\u001b[43m]\u001b[49m\u001b[38;5;241;43m.\u001b[39;49m\u001b[43mvalues\u001b[49m\u001b[38;5;241m.\u001b[39mravel()[exp_mask_ins]\n\u001b[1;32m     11\u001b[0m     uv \u001b[38;5;241m=\u001b[39muvs_an_mean[k]\u001b[38;5;241m.\u001b[39mvalues\u001b[38;5;241m.\u001b[39mravel()[exp_mask_ins]\n\u001b[1;32m     12\u001b[0m     vv \u001b[38;5;241m=\u001b[39mvvs_an_mean[k]\u001b[38;5;241m.\u001b[39mvalues\u001b[38;5;241m.\u001b[39mravel()[exp_mask_ins]\n",
      "File \u001b[0;32m/srv/conda/envs/notebook/lib/python3.12/site-packages/xarray/core/dataarray.py:814\u001b[0m, in \u001b[0;36mDataArray.values\u001b[0;34m(self)\u001b[0m\n\u001b[1;32m    801\u001b[0m \u001b[38;5;129m@property\u001b[39m\n\u001b[1;32m    802\u001b[0m \u001b[38;5;28;01mdef\u001b[39;00m\u001b[38;5;250m \u001b[39m\u001b[38;5;21mvalues\u001b[39m(\u001b[38;5;28mself\u001b[39m) \u001b[38;5;241m-\u001b[39m\u001b[38;5;241m>\u001b[39m np\u001b[38;5;241m.\u001b[39mndarray:\n\u001b[1;32m    803\u001b[0m \u001b[38;5;250m    \u001b[39m\u001b[38;5;124;03m\"\"\"\u001b[39;00m\n\u001b[1;32m    804\u001b[0m \u001b[38;5;124;03m    The array's data converted to numpy.ndarray.\u001b[39;00m\n\u001b[1;32m    805\u001b[0m \n\u001b[0;32m   (...)\u001b[0m\n\u001b[1;32m    812\u001b[0m \u001b[38;5;124;03m    to this array may be reflected in the DataArray as well.\u001b[39;00m\n\u001b[1;32m    813\u001b[0m \u001b[38;5;124;03m    \"\"\"\u001b[39;00m\n\u001b[0;32m--> 814\u001b[0m     \u001b[38;5;28;01mreturn\u001b[39;00m \u001b[38;5;28;43mself\u001b[39;49m\u001b[38;5;241;43m.\u001b[39;49m\u001b[43mvariable\u001b[49m\u001b[38;5;241;43m.\u001b[39;49m\u001b[43mvalues\u001b[49m\n",
      "File \u001b[0;32m/srv/conda/envs/notebook/lib/python3.12/site-packages/xarray/core/variable.py:565\u001b[0m, in \u001b[0;36mVariable.values\u001b[0;34m(self)\u001b[0m\n\u001b[1;32m    562\u001b[0m \u001b[38;5;129m@property\u001b[39m\n\u001b[1;32m    563\u001b[0m \u001b[38;5;28;01mdef\u001b[39;00m\u001b[38;5;250m \u001b[39m\u001b[38;5;21mvalues\u001b[39m(\u001b[38;5;28mself\u001b[39m) \u001b[38;5;241m-\u001b[39m\u001b[38;5;241m>\u001b[39m np\u001b[38;5;241m.\u001b[39mndarray:\n\u001b[1;32m    564\u001b[0m \u001b[38;5;250m    \u001b[39m\u001b[38;5;124;03m\"\"\"The variable's data as a numpy.ndarray\"\"\"\u001b[39;00m\n\u001b[0;32m--> 565\u001b[0m     \u001b[38;5;28;01mreturn\u001b[39;00m \u001b[43m_as_array_or_item\u001b[49m\u001b[43m(\u001b[49m\u001b[38;5;28;43mself\u001b[39;49m\u001b[38;5;241;43m.\u001b[39;49m\u001b[43m_data\u001b[49m\u001b[43m)\u001b[49m\n",
      "File \u001b[0;32m/srv/conda/envs/notebook/lib/python3.12/site-packages/xarray/core/variable.py:362\u001b[0m, in \u001b[0;36m_as_array_or_item\u001b[0;34m(data)\u001b[0m\n\u001b[1;32m    348\u001b[0m \u001b[38;5;28;01mdef\u001b[39;00m\u001b[38;5;250m \u001b[39m\u001b[38;5;21m_as_array_or_item\u001b[39m(data):\n\u001b[1;32m    349\u001b[0m \u001b[38;5;250m    \u001b[39m\u001b[38;5;124;03m\"\"\"Return the given values as a numpy array, or as an individual item if\u001b[39;00m\n\u001b[1;32m    350\u001b[0m \u001b[38;5;124;03m    it's a 0d datetime64 or timedelta64 array.\u001b[39;00m\n\u001b[1;32m    351\u001b[0m \n\u001b[0;32m   (...)\u001b[0m\n\u001b[1;32m    360\u001b[0m \u001b[38;5;124;03m    TODO: remove this (replace with np.asarray) once these issues are fixed\u001b[39;00m\n\u001b[1;32m    361\u001b[0m \u001b[38;5;124;03m    \"\"\"\u001b[39;00m\n\u001b[0;32m--> 362\u001b[0m     data \u001b[38;5;241m=\u001b[39m \u001b[43mnp\u001b[49m\u001b[38;5;241;43m.\u001b[39;49m\u001b[43masarray\u001b[49m\u001b[43m(\u001b[49m\u001b[43mdata\u001b[49m\u001b[43m)\u001b[49m\n\u001b[1;32m    363\u001b[0m     \u001b[38;5;28;01mif\u001b[39;00m data\u001b[38;5;241m.\u001b[39mndim \u001b[38;5;241m==\u001b[39m \u001b[38;5;241m0\u001b[39m:\n\u001b[1;32m    364\u001b[0m         \u001b[38;5;28;01mif\u001b[39;00m data\u001b[38;5;241m.\u001b[39mdtype\u001b[38;5;241m.\u001b[39mkind \u001b[38;5;241m==\u001b[39m \u001b[38;5;124m\"\u001b[39m\u001b[38;5;124mM\u001b[39m\u001b[38;5;124m\"\u001b[39m:\n",
      "File \u001b[0;32m/srv/conda/envs/notebook/lib/python3.12/site-packages/dask/array/core.py:1717\u001b[0m, in \u001b[0;36mArray.__array__\u001b[0;34m(self, dtype, **kwargs)\u001b[0m\n\u001b[1;32m   1716\u001b[0m \u001b[38;5;28;01mdef\u001b[39;00m\u001b[38;5;250m \u001b[39m\u001b[38;5;21m__array__\u001b[39m(\u001b[38;5;28mself\u001b[39m, dtype\u001b[38;5;241m=\u001b[39m\u001b[38;5;28;01mNone\u001b[39;00m, \u001b[38;5;241m*\u001b[39m\u001b[38;5;241m*\u001b[39mkwargs):\n\u001b[0;32m-> 1717\u001b[0m     x \u001b[38;5;241m=\u001b[39m \u001b[38;5;28;43mself\u001b[39;49m\u001b[38;5;241;43m.\u001b[39;49m\u001b[43mcompute\u001b[49m\u001b[43m(\u001b[49m\u001b[43m)\u001b[49m\n\u001b[1;32m   1718\u001b[0m     \u001b[38;5;28;01mif\u001b[39;00m dtype \u001b[38;5;129;01mand\u001b[39;00m x\u001b[38;5;241m.\u001b[39mdtype \u001b[38;5;241m!=\u001b[39m dtype:\n\u001b[1;32m   1719\u001b[0m         x \u001b[38;5;241m=\u001b[39m x\u001b[38;5;241m.\u001b[39mastype(dtype)\n",
      "File \u001b[0;32m/srv/conda/envs/notebook/lib/python3.12/site-packages/dask/base.py:374\u001b[0m, in \u001b[0;36mDaskMethodsMixin.compute\u001b[0;34m(self, **kwargs)\u001b[0m\n\u001b[1;32m    350\u001b[0m \u001b[38;5;28;01mdef\u001b[39;00m\u001b[38;5;250m \u001b[39m\u001b[38;5;21mcompute\u001b[39m(\u001b[38;5;28mself\u001b[39m, \u001b[38;5;241m*\u001b[39m\u001b[38;5;241m*\u001b[39mkwargs):\n\u001b[1;32m    351\u001b[0m \u001b[38;5;250m    \u001b[39m\u001b[38;5;124;03m\"\"\"Compute this dask collection\u001b[39;00m\n\u001b[1;32m    352\u001b[0m \n\u001b[1;32m    353\u001b[0m \u001b[38;5;124;03m    This turns a lazy Dask collection into its in-memory equivalent.\u001b[39;00m\n\u001b[0;32m   (...)\u001b[0m\n\u001b[1;32m    372\u001b[0m \u001b[38;5;124;03m    dask.compute\u001b[39;00m\n\u001b[1;32m    373\u001b[0m \u001b[38;5;124;03m    \"\"\"\u001b[39;00m\n\u001b[0;32m--> 374\u001b[0m     (result,) \u001b[38;5;241m=\u001b[39m \u001b[43mcompute\u001b[49m\u001b[43m(\u001b[49m\u001b[38;5;28;43mself\u001b[39;49m\u001b[43m,\u001b[49m\u001b[43m \u001b[49m\u001b[43mtraverse\u001b[49m\u001b[38;5;241;43m=\u001b[39;49m\u001b[38;5;28;43;01mFalse\u001b[39;49;00m\u001b[43m,\u001b[49m\u001b[43m \u001b[49m\u001b[38;5;241;43m*\u001b[39;49m\u001b[38;5;241;43m*\u001b[39;49m\u001b[43mkwargs\u001b[49m\u001b[43m)\u001b[49m\n\u001b[1;32m    375\u001b[0m     \u001b[38;5;28;01mreturn\u001b[39;00m result\n",
      "File \u001b[0;32m/srv/conda/envs/notebook/lib/python3.12/site-packages/dask/base.py:662\u001b[0m, in \u001b[0;36mcompute\u001b[0;34m(traverse, optimize_graph, scheduler, get, *args, **kwargs)\u001b[0m\n\u001b[1;32m    659\u001b[0m     postcomputes\u001b[38;5;241m.\u001b[39mappend(x\u001b[38;5;241m.\u001b[39m__dask_postcompute__())\n\u001b[1;32m    661\u001b[0m \u001b[38;5;28;01mwith\u001b[39;00m shorten_traceback():\n\u001b[0;32m--> 662\u001b[0m     results \u001b[38;5;241m=\u001b[39m \u001b[43mschedule\u001b[49m\u001b[43m(\u001b[49m\u001b[43mdsk\u001b[49m\u001b[43m,\u001b[49m\u001b[43m \u001b[49m\u001b[43mkeys\u001b[49m\u001b[43m,\u001b[49m\u001b[43m \u001b[49m\u001b[38;5;241;43m*\u001b[39;49m\u001b[38;5;241;43m*\u001b[39;49m\u001b[43mkwargs\u001b[49m\u001b[43m)\u001b[49m\n\u001b[1;32m    664\u001b[0m \u001b[38;5;28;01mreturn\u001b[39;00m repack([f(r, \u001b[38;5;241m*\u001b[39ma) \u001b[38;5;28;01mfor\u001b[39;00m r, (f, a) \u001b[38;5;129;01min\u001b[39;00m \u001b[38;5;28mzip\u001b[39m(results, postcomputes)])\n",
      "File \u001b[0;32m/srv/conda/envs/notebook/lib/python3.12/site-packages/xarray/core/indexing.py:573\u001b[0m, in \u001b[0;36m__array__\u001b[0;34m()\u001b[0m\n\u001b[1;32m    569\u001b[0m \u001b[38;5;28;01mdef\u001b[39;00m\u001b[38;5;250m \u001b[39m\u001b[38;5;21m__array__\u001b[39m(\n\u001b[1;32m    570\u001b[0m     \u001b[38;5;28mself\u001b[39m, dtype: np\u001b[38;5;241m.\u001b[39mtyping\u001b[38;5;241m.\u001b[39mDTypeLike \u001b[38;5;241m=\u001b[39m \u001b[38;5;28;01mNone\u001b[39;00m, \u001b[38;5;241m/\u001b[39m, \u001b[38;5;241m*\u001b[39m, copy: \u001b[38;5;28mbool\u001b[39m \u001b[38;5;241m|\u001b[39m \u001b[38;5;28;01mNone\u001b[39;00m \u001b[38;5;241m=\u001b[39m \u001b[38;5;28;01mNone\u001b[39;00m\n\u001b[1;32m    571\u001b[0m ) \u001b[38;5;241m-\u001b[39m\u001b[38;5;241m>\u001b[39m np\u001b[38;5;241m.\u001b[39mndarray:\n\u001b[1;32m    572\u001b[0m     \u001b[38;5;28;01mif\u001b[39;00m Version(np\u001b[38;5;241m.\u001b[39m__version__) \u001b[38;5;241m>\u001b[39m\u001b[38;5;241m=\u001b[39m Version(\u001b[38;5;124m\"\u001b[39m\u001b[38;5;124m2.0.0\u001b[39m\u001b[38;5;124m\"\u001b[39m):\n\u001b[0;32m--> 573\u001b[0m         \u001b[38;5;28;01mreturn\u001b[39;00m np\u001b[38;5;241m.\u001b[39masarray(\u001b[38;5;28mself\u001b[39m\u001b[38;5;241m.\u001b[39mget_duck_array(), dtype\u001b[38;5;241m=\u001b[39mdtype, copy\u001b[38;5;241m=\u001b[39mcopy)\n\u001b[1;32m    574\u001b[0m     \u001b[38;5;28;01melse\u001b[39;00m:\n\u001b[1;32m    575\u001b[0m         \u001b[38;5;28;01mreturn\u001b[39;00m np\u001b[38;5;241m.\u001b[39masarray(\u001b[38;5;28mself\u001b[39m\u001b[38;5;241m.\u001b[39mget_duck_array(), dtype\u001b[38;5;241m=\u001b[39mdtype)\n",
      "File \u001b[0;32m/srv/conda/envs/notebook/lib/python3.12/site-packages/xarray/core/indexing.py:578\u001b[0m, in \u001b[0;36mget_duck_array\u001b[0;34m()\u001b[0m\n\u001b[1;32m    577\u001b[0m \u001b[38;5;28;01mdef\u001b[39;00m\u001b[38;5;250m \u001b[39m\u001b[38;5;21mget_duck_array\u001b[39m(\u001b[38;5;28mself\u001b[39m):\n\u001b[0;32m--> 578\u001b[0m     \u001b[38;5;28;01mreturn\u001b[39;00m \u001b[38;5;28mself\u001b[39m\u001b[38;5;241m.\u001b[39marray\u001b[38;5;241m.\u001b[39mget_duck_array()\n",
      "File \u001b[0;32m/srv/conda/envs/notebook/lib/python3.12/site-packages/xarray/core/indexing.py:789\u001b[0m, in \u001b[0;36mget_duck_array\u001b[0;34m()\u001b[0m\n\u001b[1;32m    788\u001b[0m \u001b[38;5;28;01mdef\u001b[39;00m\u001b[38;5;250m \u001b[39m\u001b[38;5;21mget_duck_array\u001b[39m(\u001b[38;5;28mself\u001b[39m):\n\u001b[0;32m--> 789\u001b[0m     \u001b[38;5;28;01mreturn\u001b[39;00m \u001b[38;5;28mself\u001b[39m\u001b[38;5;241m.\u001b[39marray\u001b[38;5;241m.\u001b[39mget_duck_array()\n",
      "File \u001b[0;32m/srv/conda/envs/notebook/lib/python3.12/site-packages/xarray/core/indexing.py:659\u001b[0m, in \u001b[0;36mget_duck_array\u001b[0;34m()\u001b[0m\n\u001b[1;32m    654\u001b[0m \u001b[38;5;66;03m# self.array[self.key] is now a numpy array when\u001b[39;00m\n\u001b[1;32m    655\u001b[0m \u001b[38;5;66;03m# self.array is a BackendArray subclass\u001b[39;00m\n\u001b[1;32m    656\u001b[0m \u001b[38;5;66;03m# and self.key is BasicIndexer((slice(None, None, None),))\u001b[39;00m\n\u001b[1;32m    657\u001b[0m \u001b[38;5;66;03m# so we need the explicit check for ExplicitlyIndexed\u001b[39;00m\n\u001b[1;32m    658\u001b[0m \u001b[38;5;28;01mif\u001b[39;00m \u001b[38;5;28misinstance\u001b[39m(array, ExplicitlyIndexed):\n\u001b[0;32m--> 659\u001b[0m     array \u001b[38;5;241m=\u001b[39m array\u001b[38;5;241m.\u001b[39mget_duck_array()\n\u001b[1;32m    660\u001b[0m \u001b[38;5;28;01mreturn\u001b[39;00m _wrap_numpy_scalars(array)\n",
      "File \u001b[0;32m/srv/conda/envs/notebook/lib/python3.12/site-packages/xarray/coding/variables.py:81\u001b[0m, in \u001b[0;36mget_duck_array\u001b[0;34m()\u001b[0m\n\u001b[1;32m     80\u001b[0m \u001b[38;5;28;01mdef\u001b[39;00m\u001b[38;5;250m \u001b[39m\u001b[38;5;21mget_duck_array\u001b[39m(\u001b[38;5;28mself\u001b[39m):\n\u001b[0;32m---> 81\u001b[0m     \u001b[38;5;28;01mreturn\u001b[39;00m \u001b[38;5;28mself\u001b[39m\u001b[38;5;241m.\u001b[39mfunc(\u001b[38;5;28mself\u001b[39m\u001b[38;5;241m.\u001b[39marray\u001b[38;5;241m.\u001b[39mget_duck_array())\n",
      "File \u001b[0;32m/srv/conda/envs/notebook/lib/python3.12/site-packages/xarray/core/indexing.py:652\u001b[0m, in \u001b[0;36mget_duck_array\u001b[0;34m()\u001b[0m\n\u001b[1;32m    648\u001b[0m     array \u001b[38;5;241m=\u001b[39m apply_indexer(\u001b[38;5;28mself\u001b[39m\u001b[38;5;241m.\u001b[39marray, \u001b[38;5;28mself\u001b[39m\u001b[38;5;241m.\u001b[39mkey)\n\u001b[1;32m    649\u001b[0m \u001b[38;5;28;01melse\u001b[39;00m:\n\u001b[1;32m    650\u001b[0m     \u001b[38;5;66;03m# If the array is not an ExplicitlyIndexedNDArrayMixin,\u001b[39;00m\n\u001b[1;32m    651\u001b[0m     \u001b[38;5;66;03m# it may wrap a BackendArray so use its __getitem__\u001b[39;00m\n\u001b[0;32m--> 652\u001b[0m     array \u001b[38;5;241m=\u001b[39m \u001b[38;5;28mself\u001b[39m\u001b[38;5;241m.\u001b[39marray[\u001b[38;5;28mself\u001b[39m\u001b[38;5;241m.\u001b[39mkey]\n\u001b[1;32m    654\u001b[0m \u001b[38;5;66;03m# self.array[self.key] is now a numpy array when\u001b[39;00m\n\u001b[1;32m    655\u001b[0m \u001b[38;5;66;03m# self.array is a BackendArray subclass\u001b[39;00m\n\u001b[1;32m    656\u001b[0m \u001b[38;5;66;03m# and self.key is BasicIndexer((slice(None, None, None),))\u001b[39;00m\n\u001b[1;32m    657\u001b[0m \u001b[38;5;66;03m# so we need the explicit check for ExplicitlyIndexed\u001b[39;00m\n\u001b[1;32m    658\u001b[0m \u001b[38;5;28;01mif\u001b[39;00m \u001b[38;5;28misinstance\u001b[39m(array, ExplicitlyIndexed):\n",
      "File \u001b[0;32m/srv/conda/envs/notebook/lib/python3.12/site-packages/xarray/backends/netCDF4_.py:103\u001b[0m, in \u001b[0;36m__getitem__\u001b[0;34m()\u001b[0m\n\u001b[1;32m    102\u001b[0m \u001b[38;5;28;01mdef\u001b[39;00m\u001b[38;5;250m \u001b[39m\u001b[38;5;21m__getitem__\u001b[39m(\u001b[38;5;28mself\u001b[39m, key):\n\u001b[0;32m--> 103\u001b[0m     \u001b[38;5;28;01mreturn\u001b[39;00m indexing\u001b[38;5;241m.\u001b[39mexplicit_indexing_adapter(\n\u001b[1;32m    104\u001b[0m         key, \u001b[38;5;28mself\u001b[39m\u001b[38;5;241m.\u001b[39mshape, indexing\u001b[38;5;241m.\u001b[39mIndexingSupport\u001b[38;5;241m.\u001b[39mOUTER, \u001b[38;5;28mself\u001b[39m\u001b[38;5;241m.\u001b[39m_getitem\n\u001b[1;32m    105\u001b[0m     )\n",
      "File \u001b[0;32m/srv/conda/envs/notebook/lib/python3.12/site-packages/xarray/core/indexing.py:1013\u001b[0m, in \u001b[0;36mexplicit_indexing_adapter\u001b[0;34m()\u001b[0m\n\u001b[1;32m    991\u001b[0m \u001b[38;5;250m\u001b[39m\u001b[38;5;124;03m\"\"\"Support explicit indexing by delegating to a raw indexing method.\u001b[39;00m\n\u001b[1;32m    992\u001b[0m \n\u001b[1;32m    993\u001b[0m \u001b[38;5;124;03mOuter and/or vectorized indexers are supported by indexing a second time\u001b[39;00m\n\u001b[0;32m   (...)\u001b[0m\n\u001b[1;32m   1010\u001b[0m \u001b[38;5;124;03mIndexing result, in the form of a duck numpy-array.\u001b[39;00m\n\u001b[1;32m   1011\u001b[0m \u001b[38;5;124;03m\"\"\"\u001b[39;00m\n\u001b[1;32m   1012\u001b[0m raw_key, numpy_indices \u001b[38;5;241m=\u001b[39m decompose_indexer(key, shape, indexing_support)\n\u001b[0;32m-> 1013\u001b[0m result \u001b[38;5;241m=\u001b[39m raw_indexing_method(raw_key\u001b[38;5;241m.\u001b[39mtuple)\n\u001b[1;32m   1014\u001b[0m \u001b[38;5;28;01mif\u001b[39;00m numpy_indices\u001b[38;5;241m.\u001b[39mtuple:\n\u001b[1;32m   1015\u001b[0m     \u001b[38;5;66;03m# index the loaded np.ndarray\u001b[39;00m\n\u001b[1;32m   1016\u001b[0m     indexable \u001b[38;5;241m=\u001b[39m NumpyIndexingAdapter(result)\n",
      "File \u001b[0;32m/srv/conda/envs/notebook/lib/python3.12/site-packages/xarray/backends/netCDF4_.py:115\u001b[0m, in \u001b[0;36m_getitem\u001b[0;34m()\u001b[0m\n\u001b[1;32m    113\u001b[0m \u001b[38;5;28;01mtry\u001b[39;00m:\n\u001b[1;32m    114\u001b[0m     \u001b[38;5;28;01mwith\u001b[39;00m \u001b[38;5;28mself\u001b[39m\u001b[38;5;241m.\u001b[39mdatastore\u001b[38;5;241m.\u001b[39mlock:\n\u001b[0;32m--> 115\u001b[0m         original_array \u001b[38;5;241m=\u001b[39m \u001b[38;5;28mself\u001b[39m\u001b[38;5;241m.\u001b[39mget_array(needs_lock\u001b[38;5;241m=\u001b[39m\u001b[38;5;28;01mFalse\u001b[39;00m)\n\u001b[1;32m    116\u001b[0m         array \u001b[38;5;241m=\u001b[39m getitem(original_array, key)\n\u001b[1;32m    117\u001b[0m \u001b[38;5;28;01mexcept\u001b[39;00m \u001b[38;5;167;01mIndexError\u001b[39;00m \u001b[38;5;28;01mas\u001b[39;00m err:\n\u001b[1;32m    118\u001b[0m     \u001b[38;5;66;03m# Catch IndexError in netCDF4 and return a more informative\u001b[39;00m\n\u001b[1;32m    119\u001b[0m     \u001b[38;5;66;03m# error message.  This is most often called when an unsorted\u001b[39;00m\n\u001b[1;32m    120\u001b[0m     \u001b[38;5;66;03m# indexer is used before the data is loaded from disk.\u001b[39;00m\n",
      "File \u001b[0;32m/srv/conda/envs/notebook/lib/python3.12/site-packages/xarray/backends/netCDF4_.py:95\u001b[0m, in \u001b[0;36mget_array\u001b[0;34m()\u001b[0m\n\u001b[1;32m     93\u001b[0m \u001b[38;5;28;01mdef\u001b[39;00m\u001b[38;5;250m \u001b[39m\u001b[38;5;21mget_array\u001b[39m(\u001b[38;5;28mself\u001b[39m, needs_lock\u001b[38;5;241m=\u001b[39m\u001b[38;5;28;01mTrue\u001b[39;00m):\n\u001b[1;32m     94\u001b[0m     ds \u001b[38;5;241m=\u001b[39m \u001b[38;5;28mself\u001b[39m\u001b[38;5;241m.\u001b[39mdatastore\u001b[38;5;241m.\u001b[39m_acquire(needs_lock)\n\u001b[0;32m---> 95\u001b[0m     variable \u001b[38;5;241m=\u001b[39m ds\u001b[38;5;241m.\u001b[39mvariables[\u001b[38;5;28mself\u001b[39m\u001b[38;5;241m.\u001b[39mvariable_name]\n\u001b[1;32m     96\u001b[0m     variable\u001b[38;5;241m.\u001b[39mset_auto_maskandscale(\u001b[38;5;28;01mFalse\u001b[39;00m)\n\u001b[1;32m     97\u001b[0m     \u001b[38;5;66;03m# only added in netCDF4-python v1.2.8\u001b[39;00m\n",
      "\u001b[0;31mKeyError\u001b[0m: 'RHOAnoma'"
     ]
    }
   ],
   "source": [
    "#take time mean for now ...\n",
    "rho_an_mean = ecco_ds['RHOAnoma'].mean('time')\n",
    "uvs_an_mean = ecco_ds['UVELMASS'].mean('time')\n",
    "vvs_an_mean = ecco_ds['VVELMASS'].mean('time')\n",
    "\n",
    "rhos = []\n",
    "uvs = []\n",
    "vvs = []\n",
    "for k in range(50):\n",
    "    rho =rho_an_mean[k].values.ravel()[exp_mask_ins]\n",
    "    uv =uvs_an_mean[k].values.ravel()[exp_mask_ins]\n",
    "    vv =vvs_an_mean[k].values.ravel()[exp_mask_ins]\n",
    "    rhos.append(rho)\n",
    "    uvs.append(uv)\n",
    "    vvs.append(vv)\n",
    "\n",
    "print(len(rhos))\n",
    "rhos = np.array(rhos)\n",
    "uvs = np.array(uvs)\n",
    "vvs = np.array(vvs)\n",
    "rhos.shape"
   ]
  },
  {
   "cell_type": "code",
   "execution_count": 58,
   "id": "bd38e506-6224-49c9-a36e-09b5796a2039",
   "metadata": {},
   "outputs": [
    {
     "data": {
      "text/plain": [
       "(16, 360)"
      ]
     },
     "execution_count": 58,
     "metadata": {},
     "output_type": "execute_result"
    }
   ],
   "source": [
    "rhos = np.array(rhos)\n",
    "uvs = np.array(uvs)\n",
    "vvs = np.array(vvs)\n",
    "rhos.shape"
   ]
  },
  {
   "cell_type": "code",
   "execution_count": 60,
   "id": "6516425c-a20c-4b6f-afab-2164e0746f73",
   "metadata": {},
   "outputs": [
    {
     "data": {
      "text/plain": [
       "<matplotlib.collections.QuadMesh at 0x7f43947b74a0>"
      ]
     },
     "execution_count": 60,
     "metadata": {},
     "output_type": "execute_result"
    },
    {
     "data": {
      "image/png": "[encoded data removed]",
      "text/plain": [
       "<Figure size 640x480 with 1 Axes>"
      ]
     },
     "metadata": {},
     "output_type": "display_data"
    }
   ],
   "source": [
    "lon_indices = np.argsort(tt_lons)\n",
    "\n",
    "plt.pcolormesh(tt_lons[lon_indices], ecco_ds.Z[:16], rhos[:,lon_indices])"
   ]
  },
  {
   "cell_type": "code",
   "execution_count": 66,
   "id": "62ee0b99-0e7e-485f-9419-cf0812329f0a",
   "metadata": {},
   "outputs": [],
   "source": [
    "uv_dens = np.zeros((len(target_sig_levels),360))\n",
    "vv_dens = np.zeros((len(target_sig_levels),360))\n",
    "\n",
    "for i in range(360):\n",
    "    j = lon_indices[i]\n",
    "    vv_dens[:,i] = np.interp(target_sig_levels, rhos[:,j], vvs[:,j],left= np.nan,right= np.nan)\n",
    "    uv_dens[:,i] = np.interp(target_sig_levels, rhos[:,j], uvs[:,j],left= np.nan,right= np.nan)"
   ]
  },
  {
   "cell_type": "code",
   "execution_count": null,
   "id": "883c21e3-fb77-4548-a62a-794fc4748148",
   "metadata": {},
   "outputs": [],
   "source": []
  }
 ],
 "metadata": {
  "kernelspec": {
   "display_name": "Python 3 (ipykernel)",
   "language": "python",
   "name": "python3"
  },
  "language_info": {
   "codemirror_mode": {
    "name": "ipython",
    "version": 3
   },
   "file_extension": ".py",
   "mimetype": "text/x-python",
   "name": "python",
   "nbconvert_exporter": "python",
   "pygments_lexer": "ipython3",
   "version": "3.12.8"
  }
 },
 "nbformat": 4,
 "nbformat_minor": 5
}
